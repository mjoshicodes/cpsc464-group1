{
 "cells": [
  {
   "cell_type": "markdown",
   "metadata": {},
   "source": [
    "# Medical Expenditure Tutorial"
   ]
  },
  {
   "cell_type": "markdown",
   "metadata": {},
   "source": [
    "## This tutorial demonstrates classification model learning with bias mitigation as a part of a Care Management use case using Medical Expenditure data."
   ]
  },
  {
   "cell_type": "markdown",
   "metadata": {},
   "source": [
    "The notebook demonstrates how the AIF 360 toolkit can be used to detect and reduce bias when learning classifiers using a variety of fairness metrics and algorithms . It also demonstrates how explanations can be generated for predictions made by models learnt with the toolkit using LIME.\n",
    "\n",
    "Classifiers are built using Logistic Regression as well as Random Forests.\n",
    "\n",
    "Bias detection is demonstrated using several metrics, including disparate impact, average odds difference, statistical parity difference, equal opportunity difference, and Theil index.\n",
    "\n",
    "Bias alleviation is explored via a variety of methods, including reweighing (pre-processing algorithm), prejudice remover (in-processing algorithm), and disparate impact remover (pre-processing technique).\n",
    "\n",
    "Data from the [Medical Expenditure Panel Survey](https://meps.ahrq.gov/mepsweb/) is used in this tutorial. See [Section 2](#2.-Data-used) below for more details.\n"
   ]
  },
  {
   "cell_type": "markdown",
   "metadata": {},
   "source": [
    "## Table of Contents"
   ]
  },
  {
   "cell_type": "markdown",
   "metadata": {},
   "source": [
    "To return to the table of contents, click on the number at any major section heading.\n",
    "\n",
    "[1. Use case](#1.-Use-case)\n",
    "\n",
    "[2. Data used](#2.-Data-used)\n",
    "\n",
    "[3. Training models without debiasing](#3.-Training-models-on-original-2015-Panel-19-data)\n",
    "\n",
    "[4. Reweighing (pre-processing bias mitigation)](#4.-Bias-mitigation-using-pre-processing-technique---Reweighing)\n",
    "\n",
    "[5. Prejudice Remover (in-processing bias mitigation)](#5.-Bias-mitigation-using-in-processing-technique---Prejudice-Remover-(PR))\n",
    "\n",
    "[6. Summary of results](#6.-Summary-of-Model-Learning-Results)\n",
    "\n",
    "[7. Deploying model](#7.-Deploying-model)\n",
    "\n",
    "[8. Generating explanations for model predictions using LIME](#8.-Generating-explanations-for-model-predictions-using-LIME)\n",
    "\n",
    "[9. Re-deploying Model](#9.-Re-deploying-Model)\n",
    "\n",
    "[10. Overall Summary](#10.-SUMMARY)"
   ]
  },
  {
   "cell_type": "markdown",
   "metadata": {},
   "source": [
    "## [1.](#Table-of-Contents) Use case"
   ]
  },
  {
   "cell_type": "markdown",
   "metadata": {},
   "source": [
    "In order to demonstrate how AIF 360 can be used to detect and mitigate bias in classfier models, we adopt the following use case:\n",
    "\n",
    "1. a data scientist develops a 'fair' healthcare utilization scoring model with respect to defined protected classes. Fairness may be dictated by legal or government regulations, such as a requirement that additional care decisions be not predicated on factors such as race of the patient.\n",
    "\n",
    "\n",
    "2. developer takes the model AND performance characteristics / specs of the model (e.g. accuracy, fairness tests, etc. basically the model factsheet) and deploys the model in an enterprise app that prioritizes cases for care management.\n",
    "\n",
    "\n",
    "3. the app is put into production and starts scoring people and making recommendations. \n",
    "\n",
    "\n",
    "4. explanations are generated for each recommendation\n",
    "\n",
    "\n",
    "5. both recommendations and associated explanations are given to nurses as a part of the care management process. The nurses can evaluate the recommendations for quality and correctness and provide feedback.\n",
    "\n",
    "\n",
    "6. nurse feedback as well as analysis of usage data with respect to specs of the model w.r.t accuracy and fairness is communicated to AI Ops specialist and LOB user periodically.\n",
    "\n",
    "\n",
    "7. when significant drift in model specs relative to the model factsheet is observed, the model is sent back for retraining."
   ]
  },
  {
   "cell_type": "markdown",
   "metadata": {},
   "source": [
    "## [2.](#Table-of-Contents) Data used"
   ]
  },
  {
   "cell_type": "markdown",
   "metadata": {},
   "source": [
    "The specific data used is the [2015 Full Year Consolidated Data File](https://meps.ahrq.gov/mepsweb/data_stats/download_data_files_detail.jsp?cboPufNumber=HC-181) as well as the [2016 Full Year Consolidated Data File](https://meps.ahrq.gov/mepsweb/data_stats/download_data_files_detail.jsp?cboPufNumber=HC-192)."
   ]
  },
  {
   "cell_type": "markdown",
   "metadata": {},
   "source": [
    "The 2015 file contains data from rounds 3,4,5 of panel 19 (2014) and rounds 1,2,3 of panel 20 (2015). The 2016 file contains data from rounds 3,4,5 of panel 20 (2015) and rounds 1,2,3 of panel 21 (2016).\n",
    "\n",
    "For this demonstration, three datasets were constructed: one from panel 19, round 5 (used for learning models), one from panel 20, round 3 (used for deployment/testing of model - steps); the other from panel 21, round 3 (used for re-training and deployment/testing of updated model)."
   ]
  },
  {
   "cell_type": "markdown",
   "metadata": {},
   "source": [
    "For each dataset, the sensitive attribute is 'RACE' constructed as follows: 'Whites' (privileged class) defined by the features RACEV2X = 1 (White) and HISPANX = 2 (non Hispanic); 'Non-Whites' that included everyone else.  \n",
    "\n",
    "Along with race as the sensitive feature, other features used for modeling include demographics  (such as age, gender, active duty status), physical/mental health assessments, diagnosis codes (such as history of diagnosis of cancer, or diabetes), and limitations (such as cognitive or hearing or vision limitation).\n",
    "\n",
    "To measure utilization, a composite feature, 'UTILIZATION', was created to measure the total number of trips requiring some sort of medical care by summing up the following features: OBTOTV15(16), the number of office based visits;  OPTOTV15(16), the number of outpatient visits; ERTOT15(16), the number of ER visits;  IPNGTD15(16), the number of inpatient nights, and  + HHTOTD16, the number of home health visits.\n",
    "\n",
    "The model classification task is to predict whether a person would have 'high' utilization (defined as UTILIZATION >= 10, roughly the average utilization for the considered population). High utilization respondents constituted around 17% of each dataset.\n",
    "\n",
    "To simulate the scenario, each dataset is split into 3 parts: a train, a validation, and a test/deployment part.\n",
    "\n",
    "We assume that the model is initially built and tuned using the 2015 Panel 19 train/test data. (Use case steps 1-2.)\n",
    "It is then put into practice and used to score people to identify potential candidates for care management (Use case steps 3-5). Initial deployment is simulated to 2015 Panel 20 deployment data. To show change in performance and/or fairness over time, (use case steps 6-7), the 2016 Panel 21 deployment data is used. Finally, if drift is observed, the 2015 train/validation data is used to learn a new model and evaluated again on the 2016 deployment data"
   ]
  },
  {
   "cell_type": "markdown",
   "metadata": {},
   "source": [
    "## [3.](#Table-of-Contents) Training models on original 2015 Panel 19 data"
   ]
  },
  {
   "cell_type": "markdown",
   "metadata": {},
   "source": [
    "First, load all necessary packages"
   ]
  },
  {
   "cell_type": "code",
   "execution_count": 1,
   "metadata": {},
   "outputs": [
    {
     "name": "stderr",
     "output_type": "stream",
     "text": [
      "WARNING:root:No module named 'tempeh': LawSchoolGPADataset will be unavailable. To install, run:\n",
      "pip install 'aif360[LawSchoolGPA]'\n",
      "WARNING:root:No module named 'tensorflow': AdversarialDebiasing will be unavailable. To install, run:\n",
      "pip install 'aif360[AdversarialDebiasing]'\n"
     ]
    }
   ],
   "source": [
    "import sys\n",
    "sys.path.insert(0, '../')\n",
    "\n",
    "%matplotlib inline\n",
    "import matplotlib.pyplot as plt\n",
    "import numpy as np\n",
    "from IPython.display import Markdown, display\n",
    "\n",
    "# Datasets\n",
    "from aif360.datasets import MEPSDataset19\n",
    "from aif360.datasets import MEPSDataset20\n",
    "from aif360.datasets import MEPSDataset21\n",
    "\n",
    "# Fairness metrics\n",
    "from aif360.metrics import BinaryLabelDatasetMetric\n",
    "from aif360.metrics import ClassificationMetric\n",
    "\n",
    "# Explainers\n",
    "from aif360.explainers import MetricTextExplainer\n",
    "\n",
    "# Scalers\n",
    "from sklearn.preprocessing import StandardScaler\n",
    "\n",
    "# Classifiers\n",
    "# from sklearn.ensemble import RandomForestClassifier\n",
    "from sklearn.linear_model import LogisticRegression\n",
    "from sklearn.pipeline import make_pipeline\n",
    "\n",
    "# Bias mitigation techniques\n",
    "from aif360.algorithms.preprocessing import Reweighing\n",
    "# from aif360.algorithms.inprocessing import PrejudiceRemover\n",
    "\n",
    "# LIME\n",
    "from aif360.datasets.lime_encoder import LimeEncoder\n",
    "# import lime\n",
    "# from lime.lime_tabular import LimeTabularExplainer\n",
    "\n",
    "np.random.seed(1)"
   ]
  },
  {
   "cell_type": "code",
   "execution_count": 2,
   "metadata": {},
   "outputs": [],
   "source": [
    "from risk_dataset_new import RiskDataset\n",
    "from aif360.metrics import BinaryLabelDatasetMetric\n",
    "from aif360.explainers import MetricTextExplainer"
   ]
  },
  {
   "cell_type": "markdown",
   "metadata": {},
   "source": [
    "### 3.1. Load data & create splits for learning/validating/testing model"
   ]
  },
  {
   "cell_type": "markdown",
   "metadata": {},
   "source": [
    "Get the dataset and split into train (50%), validate (30%), and test (20%)"
   ]
  },
  {
   "cell_type": "code",
   "execution_count": 3,
   "metadata": {},
   "outputs": [
    {
     "name": "stdout",
     "output_type": "stream",
     "text": [
      "/Users/megha/Fall_2022/CPSC464/Git/cpsc464-group1/data/data_added.csv\n",
      "       risk_score_t  program_enrolled_t  cost_t  cost_avoidable_t   race  \\\n",
      "0          1.987430                   0  1200.0               0.0  white   \n",
      "1          7.677934                   0  2600.0               0.0  white   \n",
      "2          0.407678                   0   500.0               0.0  white   \n",
      "3          0.798369                   0  1300.0               0.0  white   \n",
      "4         17.513165                   0  1100.0               0.0  white   \n",
      "...             ...                 ...     ...               ...    ...   \n",
      "48779      0.611517                   0   800.0               0.0  white   \n",
      "48780      2.615933                   0  2200.0               0.0  white   \n",
      "48781      1.358926                   0   800.0               0.0  white   \n",
      "48782     10.990318                   0  1300.0               0.0  white   \n",
      "48783      1.681671                   0  4400.0               0.0  white   \n",
      "\n",
      "       dem_female  dem_age_band_18-24_tm1  dem_age_band_25-34_tm1  \\\n",
      "0               0                       0                       0   \n",
      "1               1                       0                       0   \n",
      "2               1                       0                       1   \n",
      "3               1                       1                       0   \n",
      "4               1                       0                       0   \n",
      "...           ...                     ...                     ...   \n",
      "48779           0                       0                       1   \n",
      "48780           1                       0                       0   \n",
      "48781           1                       0                       0   \n",
      "48782           1                       0                       0   \n",
      "48783           1                       0                       1   \n",
      "\n",
      "       dem_age_band_35-44_tm1  dem_age_band_45-54_tm1  ...  trig_mean-low_tm1  \\\n",
      "0                           0                       1  ...                  0   \n",
      "1                           0                       1  ...                  0   \n",
      "2                           0                       0  ...                  0   \n",
      "3                           0                       0  ...                  0   \n",
      "4                           0                       0  ...                  0   \n",
      "...                       ...                     ...  ...                ...   \n",
      "48779                       0                       0  ...                  0   \n",
      "48780                       0                       1  ...                  0   \n",
      "48781                       0                       0  ...                  0   \n",
      "48782                       0                       0  ...                  0   \n",
      "48783                       0                       0  ...                  0   \n",
      "\n",
      "       trig_mean-high_tm1  trig_mean-normal_tm1  trig_max-low_tm1  \\\n",
      "0                       0                     0                 0   \n",
      "1                       0                     1                 0   \n",
      "2                       0                     0                 0   \n",
      "3                       0                     0                 0   \n",
      "4                       0                     0                 0   \n",
      "...                   ...                   ...               ...   \n",
      "48779                   0                     0                 0   \n",
      "48780                   0                     1                 0   \n",
      "48781                   0                     1                 0   \n",
      "48782                   0                     0                 0   \n",
      "48783                   0                     0                 0   \n",
      "\n",
      "       trig_max-high_tm1  trig_max-normal_tm1  gagne_sum_tm1  gagne_sum_t  \\\n",
      "0                      0                    0              0            0   \n",
      "1                      0                    1              4            3   \n",
      "2                      0                    0              0            0   \n",
      "3                      0                    0              0            0   \n",
      "4                      0                    0              1            1   \n",
      "...                  ...                  ...            ...          ...   \n",
      "48779                  0                    0              0            0   \n",
      "48780                  0                    1              1            1   \n",
      "48781                  0                    1              1            0   \n",
      "48782                  0                    0              3            3   \n",
      "48783                  0                    0              0            0   \n",
      "\n",
      "       our_gagne_score  our_cci_score  \n",
      "0                    0              0  \n",
      "1                    1              3  \n",
      "2                    0              0  \n",
      "3                    0              0  \n",
      "4                    2              2  \n",
      "...                ...            ...  \n",
      "48779                0              0  \n",
      "48780                1              1  \n",
      "48781               -1              1  \n",
      "48782                0              2  \n",
      "48783                0              0  \n",
      "\n",
      "[48784 rows x 157 columns]\n"
     ]
    }
   ],
   "source": [
    "(dataset_orig_panel19_train,\n",
    " dataset_orig_panel19_val,\n",
    " dataset_orig_panel19_test) = RiskDataset().split([0.5, 0.8], shuffle=True)\n",
    "\n",
    "sens_ind = 0\n",
    "sens_attr = dataset_orig_panel19_train.protected_attribute_names[sens_ind]\n",
    "\n",
    "unprivileged_groups = [{sens_attr: v} for v in\n",
    "                       dataset_orig_panel19_train.unprivileged_protected_attributes[sens_ind]]\n",
    "privileged_groups = [{sens_attr: v} for v in\n",
    "                     dataset_orig_panel19_train.privileged_protected_attributes[sens_ind]]"
   ]
  },
  {
   "cell_type": "markdown",
   "metadata": {},
   "source": [
    "This function will be used throughout the notebook to print out some labels, names, etc."
   ]
  },
  {
   "cell_type": "code",
   "execution_count": 4,
   "metadata": {
    "scrolled": true
   },
   "outputs": [],
   "source": [
    "def describe(train=None, val=None, test=None):\n",
    "    if train is not None:\n",
    "        display(Markdown(\"#### Training Dataset shape\"))\n",
    "        print(train.features.shape)\n",
    "    if val is not None:\n",
    "        display(Markdown(\"#### Validation Dataset shape\"))\n",
    "        print(val.features.shape)\n",
    "    display(Markdown(\"#### Test Dataset shape\"))\n",
    "    print(test.features.shape)\n",
    "    display(Markdown(\"#### Favorable and unfavorable labels\"))\n",
    "    print(test.favorable_label, test.unfavorable_label)\n",
    "    display(Markdown(\"#### Protected attribute names\"))\n",
    "    print(test.protected_attribute_names)\n",
    "    display(Markdown(\"#### Privileged and unprivileged protected attribute values\"))\n",
    "    print(test.privileged_protected_attributes, \n",
    "          test.unprivileged_protected_attributes)\n",
    "    display(Markdown(\"#### Dataset feature names\"))\n",
    "    print(test.feature_names)"
   ]
  },
  {
   "cell_type": "markdown",
   "metadata": {},
   "source": [
    "Show 2015 dataset details"
   ]
  },
  {
   "cell_type": "code",
   "execution_count": 5,
   "metadata": {
    "tags": []
   },
   "outputs": [
    {
     "data": {
      "text/markdown": [
       "#### Training Dataset shape"
      ],
      "text/plain": [
       "<IPython.core.display.Markdown object>"
      ]
     },
     "metadata": {},
     "output_type": "display_data"
    },
    {
     "name": "stdout",
     "output_type": "stream",
     "text": [
      "(24392, 156)\n"
     ]
    },
    {
     "data": {
      "text/markdown": [
       "#### Validation Dataset shape"
      ],
      "text/plain": [
       "<IPython.core.display.Markdown object>"
      ]
     },
     "metadata": {},
     "output_type": "display_data"
    },
    {
     "name": "stdout",
     "output_type": "stream",
     "text": [
      "(14635, 156)\n"
     ]
    },
    {
     "data": {
      "text/markdown": [
       "#### Test Dataset shape"
      ],
      "text/plain": [
       "<IPython.core.display.Markdown object>"
      ]
     },
     "metadata": {},
     "output_type": "display_data"
    },
    {
     "name": "stdout",
     "output_type": "stream",
     "text": [
      "(9757, 156)\n"
     ]
    },
    {
     "data": {
      "text/markdown": [
       "#### Favorable and unfavorable labels"
      ],
      "text/plain": [
       "<IPython.core.display.Markdown object>"
      ]
     },
     "metadata": {},
     "output_type": "display_data"
    },
    {
     "name": "stdout",
     "output_type": "stream",
     "text": [
      "1.0 0.0\n"
     ]
    },
    {
     "data": {
      "text/markdown": [
       "#### Protected attribute names"
      ],
      "text/plain": [
       "<IPython.core.display.Markdown object>"
      ]
     },
     "metadata": {},
     "output_type": "display_data"
    },
    {
     "name": "stdout",
     "output_type": "stream",
     "text": [
      "['race']\n"
     ]
    },
    {
     "data": {
      "text/markdown": [
       "#### Privileged and unprivileged protected attribute values"
      ],
      "text/plain": [
       "<IPython.core.display.Markdown object>"
      ]
     },
     "metadata": {},
     "output_type": "display_data"
    },
    {
     "name": "stdout",
     "output_type": "stream",
     "text": [
      "[array([1.])] [array([0.])]\n"
     ]
    },
    {
     "data": {
      "text/markdown": [
       "#### Dataset feature names"
      ],
      "text/plain": [
       "<IPython.core.display.Markdown object>"
      ]
     },
     "metadata": {},
     "output_type": "display_data"
    },
    {
     "name": "stdout",
     "output_type": "stream",
     "text": [
      "['risk_score_t', 'cost_t', 'cost_avoidable_t', 'race', 'dem_female', 'dem_age_band_18-24_tm1', 'dem_age_band_25-34_tm1', 'dem_age_band_35-44_tm1', 'dem_age_band_45-54_tm1', 'dem_age_band_55-64_tm1', 'dem_age_band_65-74_tm1', 'dem_age_band_75+_tm1', 'alcohol_elixhauser_tm1', 'anemia_elixhauser_tm1', 'arrhythmia_elixhauser_tm1', 'arthritis_elixhauser_tm1', 'bloodlossanemia_elixhauser_tm1', 'coagulopathy_elixhauser_tm1', 'compdiabetes_elixhauser_tm1', 'depression_elixhauser_tm1', 'drugabuse_elixhauser_tm1', 'electrolytes_elixhauser_tm1', 'hypertension_elixhauser_tm1', 'hypothyroid_elixhauser_tm1', 'liver_elixhauser_tm1', 'neurodegen_elixhauser_tm1', 'obesity_elixhauser_tm1', 'paralysis_elixhauser_tm1', 'psychosis_elixhauser_tm1', 'pulmcirc_elixhauser_tm1', 'pvd_elixhauser_tm1', 'renal_elixhauser_tm1', 'uncompdiabetes_elixhauser_tm1', 'valvulardz_elixhauser_tm1', 'wtloss_elixhauser_tm1', 'cerebrovasculardz_romano_tm1', 'chf_romano_tm1', 'dementia_romano_tm1', 'hemiplegia_romano_tm1', 'hivaids_romano_tm1', 'metastatic_romano_tm1', 'myocardialinfarct_romano_tm1', 'pulmonarydz_romano_tm1', 'tumor_romano_tm1', 'ulcer_romano_tm1', 'cost_dialysis_tm1', 'cost_emergency_tm1', 'cost_home_health_tm1', 'cost_ip_medical_tm1', 'cost_ip_surgical_tm1', 'cost_laboratory_tm1', 'cost_op_primary_care_tm1', 'cost_op_specialists_tm1', 'cost_op_surgery_tm1', 'cost_other_tm1', 'cost_pharmacy_tm1', 'cost_physical_therapy_tm1', 'cost_radiology_tm1', 'lasix_dose_count_tm1', 'lasix_min_daily_dose_tm1', 'lasix_mean_daily_dose_tm1', 'lasix_max_daily_dose_tm1', 'cre_tests_tm1', 'crp_tests_tm1', 'esr_tests_tm1', 'ghba1c_tests_tm1', 'hct_tests_tm1', 'ldl_tests_tm1', 'nt_bnp_tests_tm1', 'sodium_tests_tm1', 'trig_tests_tm1', 'cre_min-low_tm1', 'cre_min-high_tm1', 'cre_min-normal_tm1', 'cre_mean-low_tm1', 'cre_mean-high_tm1', 'cre_mean-normal_tm1', 'cre_max-low_tm1', 'cre_max-high_tm1', 'cre_max-normal_tm1', 'crp_min-low_tm1', 'crp_min-high_tm1', 'crp_min-normal_tm1', 'crp_mean-low_tm1', 'crp_mean-high_tm1', 'crp_mean-normal_tm1', 'crp_max-low_tm1', 'crp_max-high_tm1', 'crp_max-normal_tm1', 'esr_min-low_tm1', 'esr_min-high_tm1', 'esr_min-normal_tm1', 'esr_mean-low_tm1', 'esr_mean-high_tm1', 'esr_mean-normal_tm1', 'esr_max-low_tm1', 'esr_max-high_tm1', 'esr_max-normal_tm1', 'ghba1c_min-low_tm1', 'ghba1c_min-high_tm1', 'ghba1c_min-normal_tm1', 'ghba1c_mean-low_tm1', 'ghba1c_mean-high_tm1', 'ghba1c_mean-normal_tm1', 'ghba1c_max-low_tm1', 'ghba1c_max-high_tm1', 'ghba1c_max-normal_tm1', 'hct_min-low_tm1', 'hct_min-high_tm1', 'hct_min-normal_tm1', 'hct_mean-low_tm1', 'hct_mean-high_tm1', 'hct_mean-normal_tm1', 'hct_max-low_tm1', 'hct_max-high_tm1', 'hct_max-normal_tm1', 'ldl_min-low_tm1', 'ldl_min-high_tm1', 'ldl_min-normal_tm1', 'ldl-mean-low_tm1', 'ldl-mean-high_tm1', 'ldl-mean-normal_tm1', 'ldl_max-low_tm1', 'ldl_max-high_tm1', 'ldl_max-normal_tm1', 'nt_bnp_min-low_tm1', 'nt_bnp_min-high_tm1', 'nt_bnp_min-normal_tm1', 'nt_bnp_mean-low_tm1', 'nt_bnp_mean-high_tm1', 'nt_bnp_mean-normal_tm1', 'nt_bnp_max-low_tm1', 'nt_bnp_max-high_tm1', 'nt_bnp_max-normal_tm1', 'sodium_min-low_tm1', 'sodium_min-high_tm1', 'sodium_min-normal_tm1', 'sodium_mean-low_tm1', 'sodium_mean-high_tm1', 'sodium_mean-normal_tm1', 'sodium_max-low_tm1', 'sodium_max-high_tm1', 'sodium_max-normal_tm1', 'trig_min-low_tm1', 'trig_min-high_tm1', 'trig_min-normal_tm1', 'trig_mean-low_tm1', 'trig_mean-high_tm1', 'trig_mean-normal_tm1', 'trig_max-low_tm1', 'trig_max-high_tm1', 'trig_max-normal_tm1', 'gagne_sum_tm1', 'gagne_sum_t', 'our_gagne_score', 'our_cci_score']\n"
     ]
    }
   ],
   "source": [
    "describe(dataset_orig_panel19_train, dataset_orig_panel19_val, dataset_orig_panel19_test)"
   ]
  },
  {
   "cell_type": "markdown",
   "metadata": {},
   "source": [
    "Metrics for original data"
   ]
  },
  {
   "cell_type": "code",
   "execution_count": 6,
   "metadata": {
    "tags": []
   },
   "outputs": [
    {
     "name": "stdout",
     "output_type": "stream",
     "text": [
      "Disparate impact (probability of favorable outcome for unprivileged instances / probability of favorable outcome for privileged instances): 1.3484394506866417\n"
     ]
    }
   ],
   "source": [
    "metric_orig_panel19_train = BinaryLabelDatasetMetric(\n",
    "        dataset_orig_panel19_train,\n",
    "        unprivileged_groups=unprivileged_groups,\n",
    "        privileged_groups=privileged_groups)\n",
    "explainer_orig_panel19_train = MetricTextExplainer(metric_orig_panel19_train)\n",
    "\n",
    "print(explainer_orig_panel19_train.disparate_impact())"
   ]
  },
  {
   "cell_type": "markdown",
   "metadata": {},
   "source": [
    "### 3.2. Learning a Logistic Regression (LR) classifier on original data"
   ]
  },
  {
   "cell_type": "markdown",
   "metadata": {},
   "source": [
    "#### 3.2.1. Training LR model on original data"
   ]
  },
  {
   "cell_type": "code",
   "execution_count": 7,
   "metadata": {},
   "outputs": [],
   "source": [
    "dataset = dataset_orig_panel19_train\n",
    "model = make_pipeline(StandardScaler(),\n",
    "                      LogisticRegression(solver='liblinear', random_state=1))\n",
    "fit_params = {'logisticregression__sample_weight': dataset.instance_weights}\n",
    "\n",
    "lr_orig_panel19 = model.fit(dataset.features, dataset.labels.ravel(), **fit_params)"
   ]
  },
  {
   "cell_type": "markdown",
   "metadata": {},
   "source": [
    "#### 3.2.2. Validating LR model on original data"
   ]
  },
  {
   "cell_type": "markdown",
   "metadata": {},
   "source": [
    "This function will be used throughout the tutorial to find best threshold using a validation set"
   ]
  },
  {
   "cell_type": "code",
   "execution_count": 8,
   "metadata": {},
   "outputs": [],
   "source": [
    "from collections import defaultdict\n",
    "\n",
    "def test(dataset, model, thresh_arr):\n",
    "    try:\n",
    "        # sklearn classifier\n",
    "        y_val_pred_prob = model.predict_proba(dataset.features)\n",
    "        pos_ind = np.where(model.classes_ == dataset.favorable_label)[0][0]\n",
    "    except AttributeError:\n",
    "        # aif360 inprocessing algorithm\n",
    "        y_val_pred_prob = model.predict(dataset).scores\n",
    "        pos_ind = 0\n",
    "    \n",
    "    metric_arrs = defaultdict(list)\n",
    "    for thresh in thresh_arr:\n",
    "        y_val_pred = (y_val_pred_prob[:, pos_ind] > thresh).astype(np.float64)\n",
    "\n",
    "        dataset_pred = dataset.copy()\n",
    "        dataset_pred.labels = y_val_pred\n",
    "        metric = ClassificationMetric(\n",
    "                dataset, dataset_pred,\n",
    "                unprivileged_groups=unprivileged_groups,\n",
    "                privileged_groups=privileged_groups)\n",
    "\n",
    "        metric_arrs['bal_acc'].append((metric.true_positive_rate()\n",
    "                                     + metric.true_negative_rate()) / 2)\n",
    "        metric_arrs['avg_odds_diff'].append(metric.average_odds_difference())\n",
    "        metric_arrs['disp_imp'].append(metric.disparate_impact())\n",
    "        metric_arrs['stat_par_diff'].append(metric.statistical_parity_difference())\n",
    "        metric_arrs['eq_opp_diff'].append(metric.equal_opportunity_difference())\n",
    "        metric_arrs['theil_ind'].append(metric.theil_index())\n",
    "    \n",
    "    return metric_arrs"
   ]
  },
  {
   "cell_type": "code",
   "execution_count": 9,
   "metadata": {},
   "outputs": [],
   "source": [
    "thresh_arr = np.linspace(0.01, 0.5, 50)\n",
    "val_metrics = test(dataset=dataset_orig_panel19_val,\n",
    "                   model=lr_orig_panel19,\n",
    "                   thresh_arr=thresh_arr)\n",
    "lr_orig_best_ind = np.argmax(val_metrics['bal_acc'])"
   ]
  },
  {
   "cell_type": "markdown",
   "metadata": {},
   "source": [
    "Plot metrics with twin x-axes"
   ]
  },
  {
   "cell_type": "code",
   "execution_count": 10,
   "metadata": {
    "scrolled": false
   },
   "outputs": [],
   "source": [
    "def plot(x, x_name, y_left, y_left_name, y_right, y_right_name):\n",
    "    fig, ax1 = plt.subplots(figsize=(10,7))\n",
    "    ax1.plot(x, y_left)\n",
    "    ax1.set_xlabel(x_name, fontsize=16, fontweight='bold')\n",
    "    ax1.set_ylabel(y_left_name, color='b', fontsize=16, fontweight='bold')\n",
    "    ax1.xaxis.set_tick_params(labelsize=14)\n",
    "    ax1.yaxis.set_tick_params(labelsize=14)\n",
    "    ax1.set_ylim(0.5, 0.8)\n",
    "\n",
    "    ax2 = ax1.twinx()\n",
    "    ax2.plot(x, y_right, color='r')\n",
    "    ax2.set_ylabel(y_right_name, color='r', fontsize=16, fontweight='bold')\n",
    "    if 'DI' in y_right_name:\n",
    "        ax2.set_ylim(0., 0.7)\n",
    "    else:\n",
    "        ax2.set_ylim(-0.25, 0.1)\n",
    "\n",
    "    best_ind = np.argmax(y_left)\n",
    "    ax2.axvline(np.array(x)[best_ind], color='k', linestyle=':')\n",
    "    ax2.yaxis.set_tick_params(labelsize=14)\n",
    "    ax2.grid(True)"
   ]
  },
  {
   "cell_type": "markdown",
   "metadata": {},
   "source": [
    "Here we plot $1 - \\min(\\text{disparate impact}, 1/\\text{disparate impact})$ since it's possible to overcorrect and end up with a value greater than 1, implying unfairness for the original privileged group. For shorthand, we simply call this 1-min(DI, 1/DI) from now on. We want the plotted metric to be less than 0.2."
   ]
  },
  {
   "cell_type": "code",
   "execution_count": 11,
   "metadata": {},
   "outputs": [
    {
     "data": {
      "image/png": "[encoded data removed]",
      "text/plain": [
       "<Figure size 720x504 with 2 Axes>"
      ]
     },
     "metadata": {
      "needs_background": "light"
     },
     "output_type": "display_data"
    }
   ],
   "source": [
    "disp_imp = np.array(val_metrics['disp_imp'])\n",
    "disp_imp_err = 1 - np.minimum(disp_imp, 1/disp_imp)\n",
    "plot(thresh_arr, 'Classification Thresholds',\n",
    "     val_metrics['bal_acc'], 'Balanced Accuracy',\n",
    "     disp_imp_err, '1 - min(DI, 1/DI)')"
   ]
  },
  {
   "cell_type": "code",
   "execution_count": 12,
   "metadata": {},
   "outputs": [
    {
     "data": {
      "image/png": "[encoded data removed]",
      "text/plain": [
       "<Figure size 720x504 with 2 Axes>"
      ]
     },
     "metadata": {
      "needs_background": "light"
     },
     "output_type": "display_data"
    }
   ],
   "source": [
    "plot(thresh_arr, 'Classification Thresholds',\n",
    "     val_metrics['bal_acc'], 'Balanced Accuracy',\n",
    "     val_metrics['avg_odds_diff'], 'avg. odds diff.')"
   ]
  },
  {
   "cell_type": "markdown",
   "metadata": {},
   "source": [
    "Make a function to print out accuracy and fairness metrics. This will be used throughout the tutorial."
   ]
  },
  {
   "cell_type": "code",
   "execution_count": 13,
   "metadata": {},
   "outputs": [],
   "source": [
    "def describe_metrics(metrics, thresh_arr):\n",
    "    best_ind = np.argmax(metrics['bal_acc'])\n",
    "    print(\"Threshold corresponding to Best balanced accuracy: {:6.4f}\".format(thresh_arr[best_ind]))\n",
    "    print(\"Best balanced accuracy: {:6.4f}\".format(metrics['bal_acc'][best_ind]))\n",
    "#     disp_imp_at_best_ind = np.abs(1 - np.array(metrics['disp_imp']))[best_ind]\n",
    "    disp_imp_at_best_ind = 1 - min(metrics['disp_imp'][best_ind], 1/metrics['disp_imp'][best_ind])\n",
    "    print(\"Corresponding 1-min(DI, 1/DI) value: {:6.4f}\".format(disp_imp_at_best_ind))\n",
    "    print(\"Corresponding average odds difference value: {:6.4f}\".format(metrics['avg_odds_diff'][best_ind]))\n",
    "    print(\"Corresponding statistical parity difference value: {:6.4f}\".format(metrics['stat_par_diff'][best_ind]))\n",
    "    print(\"Corresponding equal opportunity difference value: {:6.4f}\".format(metrics['eq_opp_diff'][best_ind]))\n",
    "    print(\"Corresponding Theil index value: {:6.4f}\".format(metrics['theil_ind'][best_ind]))"
   ]
  },
  {
   "cell_type": "code",
   "execution_count": 14,
   "metadata": {
    "tags": []
   },
   "outputs": [
    {
     "name": "stdout",
     "output_type": "stream",
     "text": [
      "Threshold corresponding to Best balanced accuracy: 0.0100\n",
      "Best balanced accuracy: 0.7642\n",
      "Corresponding 1-min(DI, 1/DI) value: 0.1548\n",
      "Corresponding average odds difference value: -0.0791\n",
      "Corresponding statistical parity difference value: 0.0277\n",
      "Corresponding equal opportunity difference value: -0.1842\n",
      "Corresponding Theil index value: 0.0441\n"
     ]
    }
   ],
   "source": [
    "describe_metrics(val_metrics, thresh_arr)"
   ]
  },
  {
   "cell_type": "markdown",
   "metadata": {},
   "source": [
    "#### 3.2.3. Testing LR model on original data"
   ]
  },
  {
   "cell_type": "code",
   "execution_count": 15,
   "metadata": {},
   "outputs": [],
   "source": [
    "lr_orig_metrics = test(dataset=dataset_orig_panel19_test,\n",
    "                       model=lr_orig_panel19,\n",
    "                       thresh_arr=[thresh_arr[lr_orig_best_ind]])"
   ]
  },
  {
   "cell_type": "code",
   "execution_count": 16,
   "metadata": {
    "tags": []
   },
   "outputs": [
    {
     "name": "stdout",
     "output_type": "stream",
     "text": [
      "Threshold corresponding to Best balanced accuracy: 0.0100\n",
      "Best balanced accuracy: 0.7480\n",
      "Corresponding 1-min(DI, 1/DI) value: 0.0396\n",
      "Corresponding average odds difference value: -0.0872\n",
      "Corresponding statistical parity difference value: 0.0064\n",
      "Corresponding equal opportunity difference value: -0.1806\n",
      "Corresponding Theil index value: 0.0444\n"
     ]
    }
   ],
   "source": [
    "describe_metrics(lr_orig_metrics, [thresh_arr[lr_orig_best_ind]])"
   ]
  },
  {
   "cell_type": "markdown",
   "metadata": {},
   "source": [
    "For all the fairness metrics displayed above, the value should be close to '0' for fairness.\n",
    "\n",
    "1-min(DI, 1/DI) < 0.2 is typically desired for classifier predictions to be fair.\n",
    "\n",
    "However, for a logistic regression classifier trained with original training data, at the best classification rate, this is quite high. This implies unfairness.\n",
    "\n",
    "Similarly, $\\text{average odds difference} = \\frac{(FPR_{unpriv}-FPR_{priv})+(TPR_{unpriv}-TPR_{priv})}{2}$ must be close to zero for the classifier to be fair.\n",
    "\n",
    "Again, the results for this classifier-data combination are still high. This still implies unfairness."
   ]
  },
  {
   "cell_type": "markdown",
   "metadata": {},
   "source": [
    "### 3.3. Learning a Random Forest (RF) classifier on original data"
   ]
  },
  {
   "cell_type": "markdown",
   "metadata": {},
   "source": [
    "#### 3.3.1. Training RF model on original data"
   ]
  },
  {
   "cell_type": "code",
   "execution_count": 17,
   "metadata": {},
   "outputs": [],
   "source": [
    "from sklearn.ensemble import RandomForestClassifier"
   ]
  },
  {
   "cell_type": "code",
   "execution_count": 18,
   "metadata": {},
   "outputs": [],
   "source": [
    "dataset = dataset_orig_panel19_train\n",
    "model = make_pipeline(StandardScaler(),\n",
    "                      RandomForestClassifier(n_estimators=500, min_samples_leaf=25))\n",
    "fit_params = {'randomforestclassifier__sample_weight': dataset.instance_weights}\n",
    "rf_orig_panel19 = model.fit(dataset.features, dataset.labels.ravel(), **fit_params)"
   ]
  },
  {
   "cell_type": "markdown",
   "metadata": {},
   "source": [
    "#### 3.3.2. Validating RF model on original data"
   ]
  },
  {
   "cell_type": "code",
   "execution_count": 19,
   "metadata": {},
   "outputs": [
    {
     "name": "stderr",
     "output_type": "stream",
     "text": [
      "../aif360/metrics/dataset_metric.py:82: RuntimeWarning: divide by zero encountered in double_scalars\n",
      "  return metric_fun(privileged=False) / metric_fun(privileged=True)\n",
      "../aif360/metrics/dataset_metric.py:82: RuntimeWarning: invalid value encountered in double_scalars\n",
      "  return metric_fun(privileged=False) / metric_fun(privileged=True)\n"
     ]
    }
   ],
   "source": [
    "thresh_arr = np.linspace(0.01, 0.5, 50)\n",
    "val_metrics = test(dataset=dataset_orig_panel19_val,\n",
    "                   model=rf_orig_panel19,\n",
    "                   thresh_arr=thresh_arr)\n",
    "rf_orig_best_ind = np.argmax(val_metrics['bal_acc'])"
   ]
  },
  {
   "cell_type": "code",
   "execution_count": 20,
   "metadata": {
    "scrolled": false
   },
   "outputs": [
    {
     "data": {
      "image/png": "[encoded data removed]",
      "text/plain": [
       "<Figure size 720x504 with 2 Axes>"
      ]
     },
     "metadata": {
      "needs_background": "light"
     },
     "output_type": "display_data"
    }
   ],
   "source": [
    "disp_imp = np.array(val_metrics['disp_imp'])\n",
    "disp_imp_err = 1 - np.minimum(disp_imp, 1/disp_imp)\n",
    "plot(thresh_arr, 'Classification Thresholds',\n",
    "     val_metrics['bal_acc'], 'Balanced Accuracy',\n",
    "     disp_imp_err, '1 - min(DI, 1/DI)')"
   ]
  },
  {
   "cell_type": "code",
   "execution_count": 21,
   "metadata": {
    "scrolled": false
   },
   "outputs": [
    {
     "data": {
      "image/png": "[encoded data removed]",
      "text/plain": [
       "<Figure size 720x504 with 2 Axes>"
      ]
     },
     "metadata": {
      "needs_background": "light"
     },
     "output_type": "display_data"
    }
   ],
   "source": [
    "plot(thresh_arr, 'Classification Thresholds',\n",
    "     val_metrics['bal_acc'], 'Balanced Accuracy',\n",
    "     val_metrics['avg_odds_diff'], 'avg. odds diff.')"
   ]
  },
  {
   "cell_type": "code",
   "execution_count": 22,
   "metadata": {
    "tags": []
   },
   "outputs": [
    {
     "name": "stdout",
     "output_type": "stream",
     "text": [
      "Threshold corresponding to Best balanced accuracy: 0.0100\n",
      "Best balanced accuracy: 0.8492\n",
      "Corresponding 1-min(DI, 1/DI) value: 0.3877\n",
      "Corresponding average odds difference value: 0.0601\n",
      "Corresponding statistical parity difference value: 0.1294\n",
      "Corresponding equal opportunity difference value: -0.0043\n",
      "Corresponding Theil index value: 0.0508\n"
     ]
    }
   ],
   "source": [
    "describe_metrics(val_metrics, thresh_arr)"
   ]
  },
  {
   "cell_type": "markdown",
   "metadata": {},
   "source": [
    "#### 3.3.3. Testing RF model on original data"
   ]
  },
  {
   "cell_type": "code",
   "execution_count": 23,
   "metadata": {},
   "outputs": [],
   "source": [
    "rf_orig_metrics = test(dataset=dataset_orig_panel19_test,\n",
    "                       model=rf_orig_panel19,\n",
    "                       thresh_arr=[thresh_arr[rf_orig_best_ind]])"
   ]
  },
  {
   "cell_type": "code",
   "execution_count": 24,
   "metadata": {
    "tags": []
   },
   "outputs": [
    {
     "name": "stdout",
     "output_type": "stream",
     "text": [
      "Threshold corresponding to Best balanced accuracy: 0.0100\n",
      "Best balanced accuracy: 0.8355\n",
      "Corresponding 1-min(DI, 1/DI) value: 0.2950\n",
      "Corresponding average odds difference value: 0.1115\n",
      "Corresponding statistical parity difference value: 0.0882\n",
      "Corresponding equal opportunity difference value: 0.1389\n",
      "Corresponding Theil index value: 0.0514\n"
     ]
    }
   ],
   "source": [
    "describe_metrics(rf_orig_metrics, [thresh_arr[rf_orig_best_ind]])"
   ]
  },
  {
   "cell_type": "markdown",
   "metadata": {},
   "source": [
    "As in the case of the logistic regression classifier learned on the original data, the fairness metrics for the random forest classifier have values that are quite far from 0.\n",
    "\n",
    "For example, 1 - min(DI, 1/DI) has a value of over 0.5 as opposed to the desired value of < 0.2.\n",
    "\n",
    "This indicates that the random forest classifier learned on the original data is also unfair."
   ]
  },
  {
   "cell_type": "markdown",
   "metadata": {},
   "source": [
    "## [4.](#Table-of-Contents) Bias mitigation using pre-processing technique - Reweighing"
   ]
  },
  {
   "cell_type": "markdown",
   "metadata": {},
   "source": [
    "### 4.1. Transform data"
   ]
  },
  {
   "cell_type": "code",
   "execution_count": 25,
   "metadata": {},
   "outputs": [],
   "source": [
    "RW = Reweighing(unprivileged_groups=unprivileged_groups,\n",
    "                privileged_groups=privileged_groups)\n",
    "dataset_transf_panel19_train = RW.fit_transform(dataset_orig_panel19_train)"
   ]
  },
  {
   "cell_type": "markdown",
   "metadata": {},
   "source": [
    "Metrics for transformed data"
   ]
  },
  {
   "cell_type": "code",
   "execution_count": 26,
   "metadata": {
    "tags": []
   },
   "outputs": [
    {
     "name": "stdout",
     "output_type": "stream",
     "text": [
      "Disparate impact (probability of favorable outcome for unprivileged instances / probability of favorable outcome for privileged instances): 1.0000000000000009\n"
     ]
    }
   ],
   "source": [
    "metric_transf_panel19_train = BinaryLabelDatasetMetric(\n",
    "        dataset_transf_panel19_train,\n",
    "        unprivileged_groups=unprivileged_groups,\n",
    "        privileged_groups=privileged_groups)\n",
    "explainer_transf_panel19_train = MetricTextExplainer(metric_transf_panel19_train)\n",
    "\n",
    "print(explainer_transf_panel19_train.disparate_impact())"
   ]
  },
  {
   "cell_type": "markdown",
   "metadata": {},
   "source": [
    "### 4.2. Learning a Logistic Regression (LR) classifier on data transformed by reweighing"
   ]
  },
  {
   "cell_type": "markdown",
   "metadata": {},
   "source": [
    "#### 4.2.1. Training LR model after reweighing"
   ]
  },
  {
   "cell_type": "code",
   "execution_count": 27,
   "metadata": {},
   "outputs": [],
   "source": [
    "dataset = dataset_transf_panel19_train\n",
    "model = make_pipeline(StandardScaler(),\n",
    "                      LogisticRegression(solver='liblinear', random_state=1))\n",
    "fit_params = {'logisticregression__sample_weight': dataset.instance_weights}\n",
    "lr_transf_panel19 = model.fit(dataset.features, dataset.labels.ravel(), **fit_params)"
   ]
  },
  {
   "cell_type": "code",
   "execution_count": 28,
   "metadata": {},
   "outputs": [
    {
     "data": {
      "text/plain": [
       "               instance weights     features                            \\\n",
       "                                                                         \n",
       "                                risk_score_t   cost_t cost_avoidable_t   \n",
       "instance names                                                           \n",
       "4573                   0.999669     1.528792    400.0              0.0   \n",
       "44969                  0.999669     1.324953  12600.0           5300.0   \n",
       "28207                  0.999669     0.186852      0.0              0.0   \n",
       "19361                  0.999669     1.460846   1700.0              0.0   \n",
       "5666                   0.999669     3.804994   3300.0              0.0   \n",
       "...                         ...          ...      ...              ...   \n",
       "8456                   0.999669     1.019195   2600.0              0.0   \n",
       "11123                  1.002571     4.110753   2000.0            400.0   \n",
       "11826                  1.002571     3.821981   2900.0           2400.0   \n",
       "12272                  0.999669     6.896552   2600.0              0.0   \n",
       "6853                   0.999669     7.593002   4200.0              0.0   \n",
       "\n",
       "                                                                      \\\n",
       "               protected attribute                                     \n",
       "                              race dem_female dem_age_band_18-24_tm1   \n",
       "instance names                                                         \n",
       "4573                           1.0        1.0                    0.0   \n",
       "44969                          1.0        1.0                    0.0   \n",
       "28207                          1.0        0.0                    0.0   \n",
       "19361                          1.0        1.0                    0.0   \n",
       "5666                           1.0        1.0                    0.0   \n",
       "...                            ...        ...                    ...   \n",
       "8456                           1.0        1.0                    0.0   \n",
       "11123                          0.0        0.0                    0.0   \n",
       "11826                          0.0        0.0                    0.0   \n",
       "12272                          1.0        0.0                    0.0   \n",
       "6853                           1.0        0.0                    0.0   \n",
       "\n",
       "                                                              \\\n",
       "                                                               \n",
       "               dem_age_band_25-34_tm1 dem_age_band_35-44_tm1   \n",
       "instance names                                                 \n",
       "4573                              0.0                    1.0   \n",
       "44969                             0.0                    1.0   \n",
       "28207                             0.0                    1.0   \n",
       "19361                             0.0                    1.0   \n",
       "5666                              0.0                    0.0   \n",
       "...                               ...                    ...   \n",
       "8456                              0.0                    1.0   \n",
       "11123                             0.0                    0.0   \n",
       "11826                             0.0                    0.0   \n",
       "12272                             0.0                    0.0   \n",
       "6853                              0.0                    0.0   \n",
       "\n",
       "                                       ...                     \\\n",
       "                                       ...                      \n",
       "               dem_age_band_45-54_tm1  ... trig_mean-high_tm1   \n",
       "instance names                         ...                      \n",
       "4573                              0.0  ...                0.0   \n",
       "44969                             0.0  ...                0.0   \n",
       "28207                             0.0  ...                0.0   \n",
       "19361                             0.0  ...                0.0   \n",
       "5666                              0.0  ...                0.0   \n",
       "...                               ...  ...                ...   \n",
       "8456                              0.0  ...                0.0   \n",
       "11123                             1.0  ...                0.0   \n",
       "11826                             1.0  ...                0.0   \n",
       "12272                             0.0  ...                0.0   \n",
       "6853                              0.0  ...                0.0   \n",
       "\n",
       "                                                                        \\\n",
       "                                                                         \n",
       "               trig_mean-normal_tm1 trig_max-low_tm1 trig_max-high_tm1   \n",
       "instance names                                                           \n",
       "4573                            0.0              0.0               0.0   \n",
       "44969                           0.0              0.0               0.0   \n",
       "28207                           0.0              0.0               0.0   \n",
       "19361                           1.0              0.0               0.0   \n",
       "5666                            0.0              0.0               0.0   \n",
       "...                             ...              ...               ...   \n",
       "8456                            1.0              0.0               0.0   \n",
       "11123                           0.0              0.0               0.0   \n",
       "11826                           1.0              0.0               0.0   \n",
       "12272                           1.0              0.0               0.0   \n",
       "6853                            0.0              0.0               0.0   \n",
       "\n",
       "                                                                              \\\n",
       "                                                                               \n",
       "               trig_max-normal_tm1 gagne_sum_tm1 gagne_sum_t our_gagne_score   \n",
       "instance names                                                                 \n",
       "4573                           0.0           0.0         0.0             0.0   \n",
       "44969                          0.0           1.0         1.0             1.0   \n",
       "28207                          0.0           0.0         0.0             0.0   \n",
       "19361                          1.0           0.0         0.0             0.0   \n",
       "5666                           0.0           2.0         2.0             0.0   \n",
       "...                            ...           ...         ...             ...   \n",
       "8456                           1.0           0.0         0.0             0.0   \n",
       "11123                          0.0           2.0         2.0             0.0   \n",
       "11826                          1.0           7.0         7.0             2.0   \n",
       "12272                          1.0           1.0         3.0            -1.0   \n",
       "6853                           0.0           3.0         3.0             0.0   \n",
       "\n",
       "                             labels  \n",
       "                                     \n",
       "               our_cci_score         \n",
       "instance names                       \n",
       "4573                     0.0    0.0  \n",
       "44969                    1.0    0.0  \n",
       "28207                    0.0    0.0  \n",
       "19361                    0.0    0.0  \n",
       "5666                     2.0    0.0  \n",
       "...                      ...    ...  \n",
       "8456                     0.0    0.0  \n",
       "11123                    0.0    0.0  \n",
       "11826                    5.0    0.0  \n",
       "12272                    1.0    0.0  \n",
       "6853                     2.0    0.0  \n",
       "\n",
       "[24392 rows x 158 columns]"
      ]
     },
     "execution_count": 28,
     "metadata": {},
     "output_type": "execute_result"
    }
   ],
   "source": [
    "dataset"
   ]
  },
  {
   "cell_type": "code",
   "execution_count": 29,
   "metadata": {},
   "outputs": [
    {
     "data": {
      "text/plain": [
       "risk_dataset_new.RiskDataset"
      ]
     },
     "execution_count": 29,
     "metadata": {},
     "output_type": "execute_result"
    }
   ],
   "source": [
    "type(dataset)"
   ]
  },
  {
   "cell_type": "markdown",
   "metadata": {},
   "source": [
    "#### 4.2.2. Validating  LR model after reweighing"
   ]
  },
  {
   "cell_type": "code",
   "execution_count": 30,
   "metadata": {},
   "outputs": [],
   "source": [
    "thresh_arr = np.linspace(0.01, 0.5, 50)\n",
    "val_metrics = test(dataset=dataset_orig_panel19_val,\n",
    "                   model=lr_transf_panel19,\n",
    "                   thresh_arr=thresh_arr)\n",
    "lr_transf_best_ind = np.argmax(val_metrics['bal_acc'])"
   ]
  },
  {
   "cell_type": "code",
   "execution_count": 31,
   "metadata": {},
   "outputs": [
    {
     "data": {
      "image/png": "[encoded data removed]",
      "text/plain": [
       "<Figure size 720x504 with 2 Axes>"
      ]
     },
     "metadata": {
      "needs_background": "light"
     },
     "output_type": "display_data"
    }
   ],
   "source": [
    "disp_imp = np.array(val_metrics['disp_imp'])\n",
    "disp_imp_err = 1 - np.minimum(disp_imp, 1/disp_imp)\n",
    "plot(thresh_arr, 'Classification Thresholds',\n",
    "     val_metrics['bal_acc'], 'Balanced Accuracy',\n",
    "     disp_imp_err, '1 - min(DI, 1/DI)')"
   ]
  },
  {
   "cell_type": "code",
   "execution_count": 32,
   "metadata": {},
   "outputs": [
    {
     "data": {
      "image/png": "[encoded data removed]",
      "text/plain": [
       "<Figure size 720x504 with 2 Axes>"
      ]
     },
     "metadata": {
      "needs_background": "light"
     },
     "output_type": "display_data"
    }
   ],
   "source": [
    "plot(thresh_arr, 'Classification Thresholds',\n",
    "     val_metrics['bal_acc'], 'Balanced Accuracy',\n",
    "     val_metrics['avg_odds_diff'], 'avg. odds diff.')"
   ]
  },
  {
   "cell_type": "code",
   "execution_count": 33,
   "metadata": {
    "tags": []
   },
   "outputs": [
    {
     "name": "stdout",
     "output_type": "stream",
     "text": [
      "Threshold corresponding to Best balanced accuracy: 0.0100\n",
      "Best balanced accuracy: 0.7666\n",
      "Corresponding 1-min(DI, 1/DI) value: 0.1312\n",
      "Corresponding average odds difference value: -0.1465\n",
      "Corresponding statistical parity difference value: -0.0208\n",
      "Corresponding equal opportunity difference value: -0.2711\n",
      "Corresponding Theil index value: 0.0443\n"
     ]
    }
   ],
   "source": [
    "describe_metrics(val_metrics, thresh_arr)"
   ]
  },
  {
   "cell_type": "markdown",
   "metadata": {},
   "source": [
    "#### 4.2.3. Testing  LR model after reweighing"
   ]
  },
  {
   "cell_type": "code",
   "execution_count": 34,
   "metadata": {},
   "outputs": [],
   "source": [
    "lr_transf_metrics = test(dataset=dataset_orig_panel19_test,\n",
    "                         model=lr_transf_panel19,\n",
    "                         thresh_arr=[thresh_arr[lr_transf_best_ind]])"
   ]
  },
  {
   "cell_type": "code",
   "execution_count": 35,
   "metadata": {
    "tags": []
   },
   "outputs": [
    {
     "name": "stdout",
     "output_type": "stream",
     "text": [
      "Threshold corresponding to Best balanced accuracy: 0.0100\n",
      "Best balanced accuracy: 0.7470\n",
      "Corresponding 1-min(DI, 1/DI) value: 0.1371\n",
      "Corresponding average odds difference value: -0.1393\n",
      "Corresponding statistical parity difference value: -0.0221\n",
      "Corresponding equal opportunity difference value: -0.2569\n",
      "Corresponding Theil index value: 0.0448\n"
     ]
    }
   ],
   "source": [
    "describe_metrics(lr_transf_metrics, [thresh_arr[lr_transf_best_ind]])"
   ]
  },
  {
   "cell_type": "markdown",
   "metadata": {},
   "source": [
    "The fairness metrics for the logistic regression model learned after reweighing are well improved, and thus the model is much more fair relative to the logistic regression model learned from the original data."
   ]
  },
  {
   "cell_type": "markdown",
   "metadata": {},
   "source": [
    "### 4.3. Learning a Random Forest (RF) classifier on data transformed by reweighing"
   ]
  },
  {
   "cell_type": "markdown",
   "metadata": {},
   "source": [
    "#### 4.3.1. Training  RF model after reweighing"
   ]
  },
  {
   "cell_type": "code",
   "execution_count": 36,
   "metadata": {},
   "outputs": [],
   "source": [
    "dataset = dataset_transf_panel19_train\n",
    "model = make_pipeline(StandardScaler(),\n",
    "                      RandomForestClassifier(n_estimators=500, min_samples_leaf=25))\n",
    "fit_params = {'randomforestclassifier__sample_weight': dataset.instance_weights}\n",
    "rf_transf_panel19 = model.fit(dataset.features, dataset.labels.ravel(), **fit_params)"
   ]
  },
  {
   "cell_type": "markdown",
   "metadata": {},
   "source": [
    "#### 4.3.2. Validating  RF model after reweighing"
   ]
  },
  {
   "cell_type": "code",
   "execution_count": 37,
   "metadata": {},
   "outputs": [
    {
     "name": "stderr",
     "output_type": "stream",
     "text": [
      "../aif360/metrics/dataset_metric.py:82: RuntimeWarning: invalid value encountered in double_scalars\n",
      "  return metric_fun(privileged=False) / metric_fun(privileged=True)\n"
     ]
    }
   ],
   "source": [
    "thresh_arr = np.linspace(0.01, 0.5, 50)\n",
    "val_metrics = test(dataset=dataset_orig_panel19_val,\n",
    "                   model=rf_transf_panel19,\n",
    "                   thresh_arr=thresh_arr)\n",
    "rf_transf_best_ind = np.argmax(val_metrics['bal_acc'])"
   ]
  },
  {
   "cell_type": "code",
   "execution_count": 38,
   "metadata": {
    "scrolled": false
   },
   "outputs": [
    {
     "data": {
      "image/png": "[encoded data removed]",
      "text/plain": [
       "<Figure size 720x504 with 2 Axes>"
      ]
     },
     "metadata": {
      "needs_background": "light"
     },
     "output_type": "display_data"
    }
   ],
   "source": [
    "disp_imp = np.array(val_metrics['disp_imp'])\n",
    "disp_imp_err = 1 - np.minimum(disp_imp, 1/disp_imp)\n",
    "plot(thresh_arr, 'Classification Thresholds',\n",
    "     val_metrics['bal_acc'], 'Balanced Accuracy',\n",
    "     disp_imp_err, '1 - min(DI, 1/DI)')"
   ]
  },
  {
   "cell_type": "code",
   "execution_count": 39,
   "metadata": {},
   "outputs": [
    {
     "data": {
      "image/png": "[encoded data removed]",
      "text/plain": [
       "<Figure size 720x504 with 2 Axes>"
      ]
     },
     "metadata": {
      "needs_background": "light"
     },
     "output_type": "display_data"
    }
   ],
   "source": [
    "plot(thresh_arr, 'Classification Thresholds',\n",
    "     val_metrics['bal_acc'], 'Balanced Accuracy',\n",
    "     val_metrics['avg_odds_diff'], 'avg. odds diff.')"
   ]
  },
  {
   "cell_type": "code",
   "execution_count": 40,
   "metadata": {
    "tags": []
   },
   "outputs": [
    {
     "name": "stdout",
     "output_type": "stream",
     "text": [
      "Threshold corresponding to Best balanced accuracy: 0.0100\n",
      "Best balanced accuracy: 0.8431\n",
      "Corresponding 1-min(DI, 1/DI) value: 0.3695\n",
      "Corresponding average odds difference value: 0.0633\n",
      "Corresponding statistical parity difference value: 0.1199\n",
      "Corresponding equal opportunity difference value: 0.0119\n",
      "Corresponding Theil index value: 0.0509\n"
     ]
    }
   ],
   "source": [
    "describe_metrics(val_metrics, thresh_arr)"
   ]
  },
  {
   "cell_type": "markdown",
   "metadata": {},
   "source": [
    "#### 4.3.3. Testing  RF model after reweighing"
   ]
  },
  {
   "cell_type": "code",
   "execution_count": 41,
   "metadata": {},
   "outputs": [],
   "source": [
    "rf_transf_metrics = test(dataset=dataset_orig_panel19_test,\n",
    "                         model=rf_transf_panel19,\n",
    "                         thresh_arr=[thresh_arr[rf_transf_best_ind]])"
   ]
  },
  {
   "cell_type": "code",
   "execution_count": 42,
   "metadata": {
    "tags": []
   },
   "outputs": [
    {
     "name": "stdout",
     "output_type": "stream",
     "text": [
      "Threshold corresponding to Best balanced accuracy: 0.0100\n",
      "Best balanced accuracy: 0.8409\n",
      "Corresponding 1-min(DI, 1/DI) value: 0.3022\n",
      "Corresponding average odds difference value: 0.1062\n",
      "Corresponding statistical parity difference value: 0.0914\n",
      "Corresponding equal opportunity difference value: 0.1250\n",
      "Corresponding Theil index value: 0.0514\n"
     ]
    }
   ],
   "source": [
    "describe_metrics(rf_transf_metrics, [thresh_arr[rf_transf_best_ind]])"
   ]
  },
  {
   "cell_type": "markdown",
   "metadata": {},
   "source": [
    "Once again, the model learned from the transformed data is fairer than that learned from the original data. However, the random forest model learned from the transformed data is still relatively unfair as compared to the logistic regression model learned from the transformed data."
   ]
  },
  {
   "cell_type": "markdown",
   "metadata": {
    "collapsed": true
   },
   "source": [
    "## [5.](#Table-of-Contents) Bias mitigation using in-processing technique - Prejudice Remover (PR)"
   ]
  },
  {
   "cell_type": "markdown",
   "metadata": {},
   "source": [
    "### 5.1. Learning a Prejudice Remover (PR) model on original data"
   ]
  },
  {
   "cell_type": "markdown",
   "metadata": {},
   "source": [
    "#### 5.1.1. Training a PR model"
   ]
  },
  {
   "cell_type": "code",
   "execution_count": 43,
   "metadata": {},
   "outputs": [],
   "source": [
    "from aif360.algorithms.inprocessing import PrejudiceRemover"
   ]
  },
  {
   "cell_type": "code",
   "execution_count": 44,
   "metadata": {},
   "outputs": [],
   "source": [
    "model = PrejudiceRemover(sensitive_attr=sens_attr, eta=25.0)\n",
    "pr_orig_scaler = StandardScaler()\n",
    "\n",
    "dataset = dataset_orig_panel19_train.copy()\n",
    "dataset.features = pr_orig_scaler.fit_transform(dataset.features)\n",
    "\n",
    "pr_orig_panel19 = model.fit(dataset)"
   ]
  },
  {
   "cell_type": "markdown",
   "metadata": {},
   "source": [
    "#### 5.1.2. Validating PR model"
   ]
  },
  {
   "cell_type": "code",
   "execution_count": 45,
   "metadata": {},
   "outputs": [],
   "source": [
    "thresh_arr = np.linspace(0.01, 0.50, 50)\n",
    "\n",
    "dataset = dataset_orig_panel19_val.copy()\n",
    "dataset.features = pr_orig_scaler.transform(dataset.features)\n",
    "\n",
    "val_metrics = test(dataset=dataset,\n",
    "                   model=pr_orig_panel19,\n",
    "                   thresh_arr=thresh_arr)\n",
    "pr_orig_best_ind = np.argmax(val_metrics['bal_acc'])"
   ]
  },
  {
   "cell_type": "code",
   "execution_count": 46,
   "metadata": {},
   "outputs": [
    {
     "data": {
      "image/png": "[encoded data removed]",
      "text/plain": [
       "<Figure size 720x504 with 2 Axes>"
      ]
     },
     "metadata": {
      "needs_background": "light"
     },
     "output_type": "display_data"
    }
   ],
   "source": [
    "disp_imp = np.array(val_metrics['disp_imp'])\n",
    "disp_imp_err = 1 - np.minimum(disp_imp, 1/disp_imp)\n",
    "plot(thresh_arr, 'Classification Thresholds',\n",
    "     val_metrics['bal_acc'], 'Balanced Accuracy',\n",
    "     disp_imp_err, '1 - min(DI, 1/DI)')"
   ]
  },
  {
   "cell_type": "code",
   "execution_count": 47,
   "metadata": {},
   "outputs": [
    {
     "data": {
      "image/png": "[encoded data removed]",
      "text/plain": [
       "<Figure size 720x504 with 2 Axes>"
      ]
     },
     "metadata": {
      "needs_background": "light"
     },
     "output_type": "display_data"
    }
   ],
   "source": [
    "plot(thresh_arr, 'Classification Thresholds',\n",
    "     val_metrics['bal_acc'], 'Balanced Accuracy',\n",
    "     val_metrics['avg_odds_diff'], 'avg. odds diff.')"
   ]
  },
  {
   "cell_type": "code",
   "execution_count": 48,
   "metadata": {
    "tags": []
   },
   "outputs": [
    {
     "name": "stdout",
     "output_type": "stream",
     "text": [
      "Threshold corresponding to Best balanced accuracy: 0.0100\n",
      "Best balanced accuracy: 0.7535\n",
      "Corresponding 1-min(DI, 1/DI) value: 0.1904\n",
      "Corresponding average odds difference value: -0.2614\n",
      "Corresponding statistical parity difference value: -0.0279\n",
      "Corresponding equal opportunity difference value: -0.4980\n",
      "Corresponding Theil index value: 0.0424\n"
     ]
    }
   ],
   "source": [
    "describe_metrics(val_metrics, thresh_arr)"
   ]
  },
  {
   "cell_type": "markdown",
   "metadata": {},
   "source": [
    "#### 5.1.3. Testing PR model"
   ]
  },
  {
   "cell_type": "code",
   "execution_count": 49,
   "metadata": {},
   "outputs": [],
   "source": [
    "dataset = dataset_orig_panel19_test.copy()\n",
    "dataset.features = pr_orig_scaler.transform(dataset.features)\n",
    "\n",
    "pr_orig_metrics = test(dataset=dataset,\n",
    "                       model=pr_orig_panel19,\n",
    "                       thresh_arr=[thresh_arr[pr_orig_best_ind]])"
   ]
  },
  {
   "cell_type": "code",
   "execution_count": 50,
   "metadata": {
    "tags": []
   },
   "outputs": [
    {
     "name": "stdout",
     "output_type": "stream",
     "text": [
      "Threshold corresponding to Best balanced accuracy: 0.0100\n",
      "Best balanced accuracy: 0.7412\n",
      "Corresponding 1-min(DI, 1/DI) value: 0.1516\n",
      "Corresponding average odds difference value: -0.2013\n",
      "Corresponding statistical parity difference value: -0.0227\n",
      "Corresponding equal opportunity difference value: -0.3819\n",
      "Corresponding Theil index value: 0.0429\n"
     ]
    }
   ],
   "source": [
    "describe_metrics(pr_orig_metrics, [thresh_arr[pr_orig_best_ind]])"
   ]
  },
  {
   "cell_type": "markdown",
   "metadata": {},
   "source": [
    "As in the case of reweighing, prejudice remover results in a fair model. However, it has come at the expense of relatively lower balanced accuracy."
   ]
  },
  {
   "cell_type": "markdown",
   "metadata": {},
   "source": [
    "## [6.](#Table-of-Contents) Summary of Model Learning Results"
   ]
  },
  {
   "cell_type": "code",
   "execution_count": 51,
   "metadata": {},
   "outputs": [
    {
     "data": {
      "text/html": [
       "<div>\n",
       "<style scoped>\n",
       "    .dataframe tbody tr th:only-of-type {\n",
       "        vertical-align: middle;\n",
       "    }\n",
       "\n",
       "    .dataframe tbody tr th {\n",
       "        vertical-align: top;\n",
       "    }\n",
       "\n",
       "    .dataframe thead th {\n",
       "        text-align: right;\n",
       "    }\n",
       "</style>\n",
       "<table border=\"1\" class=\"dataframe\">\n",
       "  <thead>\n",
       "    <tr style=\"text-align: right;\">\n",
       "      <th></th>\n",
       "      <th></th>\n",
       "      <th>bal_acc</th>\n",
       "      <th>avg_odds_diff</th>\n",
       "      <th>disp_imp</th>\n",
       "      <th>stat_par_diff</th>\n",
       "      <th>eq_opp_diff</th>\n",
       "      <th>theil_ind</th>\n",
       "    </tr>\n",
       "    <tr>\n",
       "      <th>Bias Mitigator</th>\n",
       "      <th>Classifier</th>\n",
       "      <th></th>\n",
       "      <th></th>\n",
       "      <th></th>\n",
       "      <th></th>\n",
       "      <th></th>\n",
       "      <th></th>\n",
       "    </tr>\n",
       "  </thead>\n",
       "  <tbody>\n",
       "    <tr>\n",
       "      <th></th>\n",
       "      <th>Logistic Regression</th>\n",
       "      <td>0.748003</td>\n",
       "      <td>-0.087185</td>\n",
       "      <td>1.041283</td>\n",
       "      <td>0.006416</td>\n",
       "      <td>-0.180556</td>\n",
       "      <td>0.044390</td>\n",
       "    </tr>\n",
       "    <tr>\n",
       "      <th></th>\n",
       "      <th>Random Forest</th>\n",
       "      <td>0.835518</td>\n",
       "      <td>0.111458</td>\n",
       "      <td>1.418533</td>\n",
       "      <td>0.088212</td>\n",
       "      <td>0.138889</td>\n",
       "      <td>0.051430</td>\n",
       "    </tr>\n",
       "    <tr>\n",
       "      <th>Reweighing</th>\n",
       "      <th>Logistic Regression</th>\n",
       "      <td>0.746968</td>\n",
       "      <td>-0.139308</td>\n",
       "      <td>0.862909</td>\n",
       "      <td>-0.022058</td>\n",
       "      <td>-0.256944</td>\n",
       "      <td>0.044753</td>\n",
       "    </tr>\n",
       "    <tr>\n",
       "      <th>Reweighing</th>\n",
       "      <th>Random Forest</th>\n",
       "      <td>0.840941</td>\n",
       "      <td>0.106182</td>\n",
       "      <td>1.433115</td>\n",
       "      <td>0.091387</td>\n",
       "      <td>0.125000</td>\n",
       "      <td>0.051385</td>\n",
       "    </tr>\n",
       "    <tr>\n",
       "      <th>Prejudice Remover</th>\n",
       "      <th></th>\n",
       "      <td>0.741241</td>\n",
       "      <td>-0.201290</td>\n",
       "      <td>0.848384</td>\n",
       "      <td>-0.022682</td>\n",
       "      <td>-0.381944</td>\n",
       "      <td>0.042929</td>\n",
       "    </tr>\n",
       "  </tbody>\n",
       "</table>\n",
       "</div>"
      ],
      "text/plain": [
       "                                        bal_acc  avg_odds_diff  disp_imp  \\\n",
       "Bias Mitigator    Classifier                                               \n",
       "                  Logistic Regression  0.748003      -0.087185  1.041283   \n",
       "                  Random Forest        0.835518       0.111458  1.418533   \n",
       "Reweighing        Logistic Regression  0.746968      -0.139308  0.862909   \n",
       "Reweighing        Random Forest        0.840941       0.106182  1.433115   \n",
       "Prejudice Remover                      0.741241      -0.201290  0.848384   \n",
       "\n",
       "                                       stat_par_diff  eq_opp_diff  theil_ind  \n",
       "Bias Mitigator    Classifier                                                  \n",
       "                  Logistic Regression       0.006416    -0.180556   0.044390  \n",
       "                  Random Forest             0.088212     0.138889   0.051430  \n",
       "Reweighing        Logistic Regression      -0.022058    -0.256944   0.044753  \n",
       "Reweighing        Random Forest             0.091387     0.125000   0.051385  \n",
       "Prejudice Remover                          -0.022682    -0.381944   0.042929  "
      ]
     },
     "execution_count": 51,
     "metadata": {},
     "output_type": "execute_result"
    }
   ],
   "source": [
    "import pandas as pd\n",
    "pd.set_option('display.multi_sparse', False)\n",
    "results = [lr_orig_metrics, rf_orig_metrics, lr_transf_metrics,\n",
    "           rf_transf_metrics, pr_orig_metrics]\n",
    "debias = pd.Series(['']*2 + ['Reweighing']*2\n",
    "                 + ['Prejudice Remover'],\n",
    "                   name='Bias Mitigator')\n",
    "clf = pd.Series(['Logistic Regression', 'Random Forest']*2 + [''],\n",
    "                name='Classifier')\n",
    "pd.concat([pd.DataFrame(metrics) for metrics in results], axis=0).set_index([debias, clf])"
   ]
  },
  {
   "cell_type": "markdown",
   "metadata": {},
   "source": [
    "Of all the models, the logistic regression model gives the best balance in terms of balanced accuracy and fairness. While the model learnt by prejudice remover is slightly fairer, it has much lower accuracy. All other models are quite unfair compared to the logistic model. Hence, we take the logistic regression model learnt from data transformed by re-weighing and 'deploy' it."
   ]
  },
  {
   "cell_type": "markdown",
   "metadata": {},
   "source": [
    "## [7.](#Table-of-Contents) Deploying model"
   ]
  },
  {
   "cell_type": "markdown",
   "metadata": {},
   "source": [
    "### 7.1. Testing model learned on 2014 (Panel 19) on 2015 (Panel 20) deployment data"
   ]
  },
  {
   "cell_type": "code",
   "execution_count": 52,
   "metadata": {},
   "outputs": [
    {
     "name": "stdout",
     "output_type": "stream",
     "text": [
      "/Users/megha/Fall_2022/CPSC464/Git/cpsc464-group1/data/data_added.csv\n",
      "       risk_score_t  program_enrolled_t  cost_t  cost_avoidable_t   race  \\\n",
      "0          1.987430                   0  1200.0               0.0  white   \n",
      "1          7.677934                   0  2600.0               0.0  white   \n",
      "2          0.407678                   0   500.0               0.0  white   \n",
      "3          0.798369                   0  1300.0               0.0  white   \n",
      "4         17.513165                   0  1100.0               0.0  white   \n",
      "...             ...                 ...     ...               ...    ...   \n",
      "48779      0.611517                   0   800.0               0.0  white   \n",
      "48780      2.615933                   0  2200.0               0.0  white   \n",
      "48781      1.358926                   0   800.0               0.0  white   \n",
      "48782     10.990318                   0  1300.0               0.0  white   \n",
      "48783      1.681671                   0  4400.0               0.0  white   \n",
      "\n",
      "       dem_female  dem_age_band_18-24_tm1  dem_age_band_25-34_tm1  \\\n",
      "0               0                       0                       0   \n",
      "1               1                       0                       0   \n",
      "2               1                       0                       1   \n",
      "3               1                       1                       0   \n",
      "4               1                       0                       0   \n",
      "...           ...                     ...                     ...   \n",
      "48779           0                       0                       1   \n",
      "48780           1                       0                       0   \n",
      "48781           1                       0                       0   \n",
      "48782           1                       0                       0   \n",
      "48783           1                       0                       1   \n",
      "\n",
      "       dem_age_band_35-44_tm1  dem_age_band_45-54_tm1  ...  trig_mean-low_tm1  \\\n",
      "0                           0                       1  ...                  0   \n",
      "1                           0                       1  ...                  0   \n",
      "2                           0                       0  ...                  0   \n",
      "3                           0                       0  ...                  0   \n",
      "4                           0                       0  ...                  0   \n",
      "...                       ...                     ...  ...                ...   \n",
      "48779                       0                       0  ...                  0   \n",
      "48780                       0                       1  ...                  0   \n",
      "48781                       0                       0  ...                  0   \n",
      "48782                       0                       0  ...                  0   \n",
      "48783                       0                       0  ...                  0   \n",
      "\n",
      "       trig_mean-high_tm1  trig_mean-normal_tm1  trig_max-low_tm1  \\\n",
      "0                       0                     0                 0   \n",
      "1                       0                     1                 0   \n",
      "2                       0                     0                 0   \n",
      "3                       0                     0                 0   \n",
      "4                       0                     0                 0   \n",
      "...                   ...                   ...               ...   \n",
      "48779                   0                     0                 0   \n",
      "48780                   0                     1                 0   \n",
      "48781                   0                     1                 0   \n",
      "48782                   0                     0                 0   \n",
      "48783                   0                     0                 0   \n",
      "\n",
      "       trig_max-high_tm1  trig_max-normal_tm1  gagne_sum_tm1  gagne_sum_t  \\\n",
      "0                      0                    0              0            0   \n",
      "1                      0                    1              4            3   \n",
      "2                      0                    0              0            0   \n",
      "3                      0                    0              0            0   \n",
      "4                      0                    0              1            1   \n",
      "...                  ...                  ...            ...          ...   \n",
      "48779                  0                    0              0            0   \n",
      "48780                  0                    1              1            1   \n",
      "48781                  0                    1              1            0   \n",
      "48782                  0                    0              3            3   \n",
      "48783                  0                    0              0            0   \n",
      "\n",
      "       our_gagne_score  our_cci_score  \n",
      "0                    0              0  \n",
      "1                    1              3  \n",
      "2                    0              0  \n",
      "3                    0              0  \n",
      "4                    2              2  \n",
      "...                ...            ...  \n",
      "48779                0              0  \n",
      "48780                1              1  \n",
      "48781               -1              1  \n",
      "48782                0              2  \n",
      "48783                0              0  \n",
      "\n",
      "[48784 rows x 157 columns]\n"
     ]
    }
   ],
   "source": [
    "dataset_orig_panel20_deploy = RiskDataset()\n",
    "\n",
    "# now align it with the 2014 dataset\n",
    "dataset_orig_panel20_deploy = dataset_orig_panel19_train.align_datasets(dataset_orig_panel20_deploy)"
   ]
  },
  {
   "cell_type": "code",
   "execution_count": 53,
   "metadata": {
    "tags": []
   },
   "outputs": [
    {
     "data": {
      "text/markdown": [
       "#### Test Dataset shape"
      ],
      "text/plain": [
       "<IPython.core.display.Markdown object>"
      ]
     },
     "metadata": {},
     "output_type": "display_data"
    },
    {
     "name": "stdout",
     "output_type": "stream",
     "text": [
      "(48784, 156)\n"
     ]
    },
    {
     "data": {
      "text/markdown": [
       "#### Favorable and unfavorable labels"
      ],
      "text/plain": [
       "<IPython.core.display.Markdown object>"
      ]
     },
     "metadata": {},
     "output_type": "display_data"
    },
    {
     "name": "stdout",
     "output_type": "stream",
     "text": [
      "1.0 0.0\n"
     ]
    },
    {
     "data": {
      "text/markdown": [
       "#### Protected attribute names"
      ],
      "text/plain": [
       "<IPython.core.display.Markdown object>"
      ]
     },
     "metadata": {},
     "output_type": "display_data"
    },
    {
     "name": "stdout",
     "output_type": "stream",
     "text": [
      "['race']\n"
     ]
    },
    {
     "data": {
      "text/markdown": [
       "#### Privileged and unprivileged protected attribute values"
      ],
      "text/plain": [
       "<IPython.core.display.Markdown object>"
      ]
     },
     "metadata": {},
     "output_type": "display_data"
    },
    {
     "name": "stdout",
     "output_type": "stream",
     "text": [
      "[array([1.])] [array([0.])]\n"
     ]
    },
    {
     "data": {
      "text/markdown": [
       "#### Dataset feature names"
      ],
      "text/plain": [
       "<IPython.core.display.Markdown object>"
      ]
     },
     "metadata": {},
     "output_type": "display_data"
    },
    {
     "name": "stdout",
     "output_type": "stream",
     "text": [
      "['risk_score_t', 'cost_t', 'cost_avoidable_t', 'race', 'dem_female', 'dem_age_band_18-24_tm1', 'dem_age_band_25-34_tm1', 'dem_age_band_35-44_tm1', 'dem_age_band_45-54_tm1', 'dem_age_band_55-64_tm1', 'dem_age_band_65-74_tm1', 'dem_age_band_75+_tm1', 'alcohol_elixhauser_tm1', 'anemia_elixhauser_tm1', 'arrhythmia_elixhauser_tm1', 'arthritis_elixhauser_tm1', 'bloodlossanemia_elixhauser_tm1', 'coagulopathy_elixhauser_tm1', 'compdiabetes_elixhauser_tm1', 'depression_elixhauser_tm1', 'drugabuse_elixhauser_tm1', 'electrolytes_elixhauser_tm1', 'hypertension_elixhauser_tm1', 'hypothyroid_elixhauser_tm1', 'liver_elixhauser_tm1', 'neurodegen_elixhauser_tm1', 'obesity_elixhauser_tm1', 'paralysis_elixhauser_tm1', 'psychosis_elixhauser_tm1', 'pulmcirc_elixhauser_tm1', 'pvd_elixhauser_tm1', 'renal_elixhauser_tm1', 'uncompdiabetes_elixhauser_tm1', 'valvulardz_elixhauser_tm1', 'wtloss_elixhauser_tm1', 'cerebrovasculardz_romano_tm1', 'chf_romano_tm1', 'dementia_romano_tm1', 'hemiplegia_romano_tm1', 'hivaids_romano_tm1', 'metastatic_romano_tm1', 'myocardialinfarct_romano_tm1', 'pulmonarydz_romano_tm1', 'tumor_romano_tm1', 'ulcer_romano_tm1', 'cost_dialysis_tm1', 'cost_emergency_tm1', 'cost_home_health_tm1', 'cost_ip_medical_tm1', 'cost_ip_surgical_tm1', 'cost_laboratory_tm1', 'cost_op_primary_care_tm1', 'cost_op_specialists_tm1', 'cost_op_surgery_tm1', 'cost_other_tm1', 'cost_pharmacy_tm1', 'cost_physical_therapy_tm1', 'cost_radiology_tm1', 'lasix_dose_count_tm1', 'lasix_min_daily_dose_tm1', 'lasix_mean_daily_dose_tm1', 'lasix_max_daily_dose_tm1', 'cre_tests_tm1', 'crp_tests_tm1', 'esr_tests_tm1', 'ghba1c_tests_tm1', 'hct_tests_tm1', 'ldl_tests_tm1', 'nt_bnp_tests_tm1', 'sodium_tests_tm1', 'trig_tests_tm1', 'cre_min-low_tm1', 'cre_min-high_tm1', 'cre_min-normal_tm1', 'cre_mean-low_tm1', 'cre_mean-high_tm1', 'cre_mean-normal_tm1', 'cre_max-low_tm1', 'cre_max-high_tm1', 'cre_max-normal_tm1', 'crp_min-low_tm1', 'crp_min-high_tm1', 'crp_min-normal_tm1', 'crp_mean-low_tm1', 'crp_mean-high_tm1', 'crp_mean-normal_tm1', 'crp_max-low_tm1', 'crp_max-high_tm1', 'crp_max-normal_tm1', 'esr_min-low_tm1', 'esr_min-high_tm1', 'esr_min-normal_tm1', 'esr_mean-low_tm1', 'esr_mean-high_tm1', 'esr_mean-normal_tm1', 'esr_max-low_tm1', 'esr_max-high_tm1', 'esr_max-normal_tm1', 'ghba1c_min-low_tm1', 'ghba1c_min-high_tm1', 'ghba1c_min-normal_tm1', 'ghba1c_mean-low_tm1', 'ghba1c_mean-high_tm1', 'ghba1c_mean-normal_tm1', 'ghba1c_max-low_tm1', 'ghba1c_max-high_tm1', 'ghba1c_max-normal_tm1', 'hct_min-low_tm1', 'hct_min-high_tm1', 'hct_min-normal_tm1', 'hct_mean-low_tm1', 'hct_mean-high_tm1', 'hct_mean-normal_tm1', 'hct_max-low_tm1', 'hct_max-high_tm1', 'hct_max-normal_tm1', 'ldl_min-low_tm1', 'ldl_min-high_tm1', 'ldl_min-normal_tm1', 'ldl-mean-low_tm1', 'ldl-mean-high_tm1', 'ldl-mean-normal_tm1', 'ldl_max-low_tm1', 'ldl_max-high_tm1', 'ldl_max-normal_tm1', 'nt_bnp_min-low_tm1', 'nt_bnp_min-high_tm1', 'nt_bnp_min-normal_tm1', 'nt_bnp_mean-low_tm1', 'nt_bnp_mean-high_tm1', 'nt_bnp_mean-normal_tm1', 'nt_bnp_max-low_tm1', 'nt_bnp_max-high_tm1', 'nt_bnp_max-normal_tm1', 'sodium_min-low_tm1', 'sodium_min-high_tm1', 'sodium_min-normal_tm1', 'sodium_mean-low_tm1', 'sodium_mean-high_tm1', 'sodium_mean-normal_tm1', 'sodium_max-low_tm1', 'sodium_max-high_tm1', 'sodium_max-normal_tm1', 'trig_min-low_tm1', 'trig_min-high_tm1', 'trig_min-normal_tm1', 'trig_mean-low_tm1', 'trig_mean-high_tm1', 'trig_mean-normal_tm1', 'trig_max-low_tm1', 'trig_max-high_tm1', 'trig_max-normal_tm1', 'gagne_sum_tm1', 'gagne_sum_t', 'our_gagne_score', 'our_cci_score']\n"
     ]
    }
   ],
   "source": [
    "# describe(dataset_orig_panel20_train, dataset_orig_panel20_val, dataset_orig_panel20_deploy)\n",
    "describe(test=dataset_orig_panel20_deploy)"
   ]
  },
  {
   "cell_type": "code",
   "execution_count": 54,
   "metadata": {
    "tags": []
   },
   "outputs": [
    {
     "name": "stdout",
     "output_type": "stream",
     "text": [
      "Disparate impact (probability of favorable outcome for unprivileged instances / probability of favorable outcome for privileged instances): 1.6392012625799317\n"
     ]
    }
   ],
   "source": [
    "metric_orig_panel20_deploy = BinaryLabelDatasetMetric(\n",
    "        dataset_orig_panel20_deploy, \n",
    "        unprivileged_groups=unprivileged_groups,\n",
    "        privileged_groups=privileged_groups)\n",
    "explainer_orig_panel20_deploy = MetricTextExplainer(metric_orig_panel20_deploy)\n",
    "\n",
    "print(explainer_orig_panel20_deploy.disparate_impact())"
   ]
  },
  {
   "cell_type": "code",
   "execution_count": 55,
   "metadata": {},
   "outputs": [],
   "source": [
    "lr_transf_metrics_panel20_deploy = test(\n",
    "        dataset=dataset_orig_panel20_deploy,\n",
    "        model=lr_transf_panel19,\n",
    "        thresh_arr=[thresh_arr[lr_transf_best_ind]])"
   ]
  },
  {
   "cell_type": "code",
   "execution_count": 56,
   "metadata": {
    "tags": []
   },
   "outputs": [
    {
     "name": "stdout",
     "output_type": "stream",
     "text": [
      "Threshold corresponding to Best balanced accuracy: 0.0100\n",
      "Best balanced accuracy: 0.7826\n",
      "Corresponding 1-min(DI, 1/DI) value: 0.1397\n",
      "Corresponding average odds difference value: -0.0857\n",
      "Corresponding statistical parity difference value: -0.0223\n",
      "Corresponding equal opportunity difference value: -0.1477\n",
      "Corresponding Theil index value: 0.0438\n"
     ]
    }
   ],
   "source": [
    "describe_metrics(lr_transf_metrics_panel20_deploy, [thresh_arr[lr_transf_best_ind]])"
   ]
  },
  {
   "cell_type": "markdown",
   "metadata": {},
   "source": [
    "Deployed model tested on the 2015 Panel 20 data still exhibits fairness as well as maintains accuracy."
   ]
  },
  {
   "cell_type": "markdown",
   "metadata": {},
   "source": [
    "## [8.](#Table-of-Contents) Generating explanations for model predictions using LIME"
   ]
  },
  {
   "cell_type": "markdown",
   "metadata": {},
   "source": [
    "### 8.1. Generating explanations on 2015 Panel 20 deployment data"
   ]
  },
  {
   "cell_type": "markdown",
   "metadata": {},
   "source": [
    "This section shows how LIME can be integrated with AIF360 to get explanations for model predictions."
   ]
  },
  {
   "cell_type": "code",
   "execution_count": 57,
   "metadata": {},
   "outputs": [],
   "source": [
    "train_dataset = dataset_transf_panel19_train  # data the deployed model (lr from transformed data)\n",
    "test_dataset = dataset_orig_panel20_deploy  # the data model is being tested on\n",
    "model = lr_transf_panel19  # lr_transf_panel19 is LR model learned from Panel 19 with Reweighing\n",
    "thresh_arr = np.linspace(0.01, 0.5, 50)\n",
    "best_thresh = thresh_arr[lr_transf_best_ind]"
   ]
  },
  {
   "cell_type": "markdown",
   "metadata": {},
   "source": [
    "First, we need to fit the encoder to the aif360 dataset"
   ]
  },
  {
   "cell_type": "code",
   "execution_count": 58,
   "metadata": {},
   "outputs": [],
   "source": [
    "lime_data = LimeEncoder().fit(train_dataset)"
   ]
  },
  {
   "cell_type": "markdown",
   "metadata": {},
   "source": [
    "The `transform()` method is then used to convert aif360 features to LIME-compatible features"
   ]
  },
  {
   "cell_type": "code",
   "execution_count": 59,
   "metadata": {},
   "outputs": [],
   "source": [
    "s_train = lime_data.transform(train_dataset.features)\n",
    "s_test = lime_data.transform(test_dataset.features)"
   ]
  },
  {
   "cell_type": "markdown",
   "metadata": {},
   "source": [
    "The `LimeTabularExplainer` takes as input the LIME-compatible data along with various other arguments to create a lime explainer"
   ]
  },
  {
   "cell_type": "code",
   "execution_count": 60,
   "metadata": {},
   "outputs": [
    {
     "ename": "ModuleNotFoundError",
     "evalue": "No module named 'lime'",
     "output_type": "error",
     "traceback": [
      "\u001b[0;31m---------------------------------------------------------------------------\u001b[0m",
      "\u001b[0;31mModuleNotFoundError\u001b[0m                       Traceback (most recent call last)",
      "\u001b[0;32m<ipython-input-60-f552b212faaa>\u001b[0m in \u001b[0;36m<module>\u001b[0;34m\u001b[0m\n\u001b[0;32m----> 1\u001b[0;31m \u001b[0;32mimport\u001b[0m \u001b[0mlime\u001b[0m\u001b[0;34m\u001b[0m\u001b[0;34m\u001b[0m\u001b[0m\n\u001b[0m\u001b[1;32m      2\u001b[0m \u001b[0;32mfrom\u001b[0m \u001b[0mlime\u001b[0m\u001b[0;34m.\u001b[0m\u001b[0mlime_tabular\u001b[0m \u001b[0;32mimport\u001b[0m \u001b[0mLimeTabularExplainer\u001b[0m\u001b[0;34m\u001b[0m\u001b[0;34m\u001b[0m\u001b[0m\n",
      "\u001b[0;31mModuleNotFoundError\u001b[0m: No module named 'lime'"
     ]
    }
   ],
   "source": [
    "import lime\n",
    "from lime.lime_tabular import LimeTabularExplainer"
   ]
  },
  {
   "cell_type": "code",
   "execution_count": null,
   "metadata": {},
   "outputs": [
    {
     "ename": "NameError",
     "evalue": "name 'LimeTabularExplainer' is not defined",
     "output_type": "error",
     "traceback": [
      "\u001b[0;31m---------------------------------------------------------------------------\u001b[0m",
      "\u001b[0;31mNameError\u001b[0m                                 Traceback (most recent call last)",
      "Cell \u001b[0;32mIn [59], line 1\u001b[0m\n\u001b[0;32m----> 1\u001b[0m explainer \u001b[39m=\u001b[39m LimeTabularExplainer(\n\u001b[1;32m      2\u001b[0m         s_train, class_names\u001b[39m=\u001b[39mlime_data\u001b[39m.\u001b[39ms_class_names, \n\u001b[1;32m      3\u001b[0m         feature_names\u001b[39m=\u001b[39mlime_data\u001b[39m.\u001b[39ms_feature_names,\n\u001b[1;32m      4\u001b[0m         categorical_features\u001b[39m=\u001b[39mlime_data\u001b[39m.\u001b[39ms_categorical_features, \n\u001b[1;32m      5\u001b[0m         categorical_names\u001b[39m=\u001b[39mlime_data\u001b[39m.\u001b[39ms_categorical_names, \n\u001b[1;32m      6\u001b[0m         kernel_width\u001b[39m=\u001b[39m\u001b[39m3\u001b[39m, verbose\u001b[39m=\u001b[39m\u001b[39mFalse\u001b[39;00m, discretize_continuous\u001b[39m=\u001b[39m\u001b[39mTrue\u001b[39;00m)\n",
      "\u001b[0;31mNameError\u001b[0m: name 'LimeTabularExplainer' is not defined"
     ]
    }
   ],
   "source": [
    "explainer = LimeTabularExplainer(\n",
    "        s_train, class_names=lime_data.s_class_names, \n",
    "        feature_names=lime_data.s_feature_names,\n",
    "        categorical_features=lime_data.s_categorical_features, \n",
    "        categorical_names=lime_data.s_categorical_names, \n",
    "        kernel_width=3, verbose=False, discretize_continuous=True)"
   ]
  },
  {
   "cell_type": "markdown",
   "metadata": {},
   "source": [
    "The `inverse_transform()` function is used to transform LIME-compatible data back to aif360-compatible data since that is needed by the model to make predictions. The function below is used to produce the predictions for any perturbed data that is produce by LIME"
   ]
  },
  {
   "cell_type": "code",
   "execution_count": null,
   "metadata": {},
   "outputs": [],
   "source": [
    "def s_predict_fn(x):\n",
    "    return model.predict_proba(lime_data.inverse_transform(x))"
   ]
  },
  {
   "cell_type": "markdown",
   "metadata": {},
   "source": [
    "The `explain_instance()` method can then be used to produce explanations for any instance in the test dataset"
   ]
  },
  {
   "cell_type": "code",
   "execution_count": null,
   "metadata": {},
   "outputs": [],
   "source": [
    "def show_explanation(ind):\n",
    "    exp = explainer.explain_instance(s_test[ind], s_predict_fn, num_features=10)\n",
    "    print(\"Actual label: \" + str(test_dataset.labels[ind]))\n",
    "    exp.as_pyplot_figure()\n",
    "    plt.show()"
   ]
  },
  {
   "cell_type": "code",
   "execution_count": null,
   "metadata": {
    "tags": []
   },
   "outputs": [],
   "source": [
    "print(\"Threshold corresponding to Best balanced accuracy: {:6.4f}\".format(best_thresh))\n",
    "show_explanation(0)\n",
    "show_explanation(2)"
   ]
  },
  {
   "cell_type": "markdown",
   "metadata": {},
   "source": [
    "See the [LIME documentation](https://github.com/marcotcr/lime) for detailed description of results. In short, the left hand side shows the label predictions made by the model, the middle shows the features that are important to the instance in question and their contributions (weights) to the label prediction, while the right hand side shows the actual values of the features in the particular instance."
   ]
  },
  {
   "cell_type": "markdown",
   "metadata": {},
   "source": [
    "## [9.](#Table-of-Contents) Re-deploying Model"
   ]
  },
  {
   "cell_type": "markdown",
   "metadata": {},
   "source": [
    "### 9.1. Testing model learned on 2014 (Panel 19) data on 2016 (Panel 21) deployment data"
   ]
  },
  {
   "cell_type": "markdown",
   "metadata": {},
   "source": [
    "Load the Panel 21 data, and split it again into 3 parts: train, validate, and deploy. We test the deployed model against the deployment data. If a new model needs to be learnt, it will be learnt from the train/validate data and then tested again on the deployment data."
   ]
  },
  {
   "cell_type": "code",
   "execution_count": null,
   "metadata": {
    "tags": []
   },
   "outputs": [
    {
     "name": "stdout",
     "output_type": "stream",
     "text": [
      "/Users/megha/Fall_2022/CPSC464/Git/cpsc464-group1/data/data_new.csv\n",
      "       risk_score_t  program_enrolled_t  cost_t  cost_avoidable_t   race  \\\n",
      "0          1.987430                   0  1200.0               0.0  white   \n",
      "1          7.677934                   0  2600.0               0.0  white   \n",
      "2          0.407678                   0   500.0               0.0  white   \n",
      "3          0.798369                   0  1300.0               0.0  white   \n",
      "4         17.513165                   0  1100.0               0.0  white   \n",
      "...             ...                 ...     ...               ...    ...   \n",
      "48779      0.611517                   0   800.0               0.0  white   \n",
      "48780      2.615933                   0  2200.0               0.0  white   \n",
      "48781      1.358926                   0   800.0               0.0  white   \n",
      "48782     10.990318                   0  1300.0               0.0  white   \n",
      "48783      1.681671                   0  4400.0               0.0  white   \n",
      "\n",
      "       dem_female  dem_age_band_18-24_tm1  dem_age_band_25-34_tm1  \\\n",
      "0               0                       0                       0   \n",
      "1               1                       0                       0   \n",
      "2               1                       0                       1   \n",
      "3               1                       1                       0   \n",
      "4               1                       0                       0   \n",
      "...           ...                     ...                     ...   \n",
      "48779           0                       0                       1   \n",
      "48780           1                       0                       0   \n",
      "48781           1                       0                       0   \n",
      "48782           1                       0                       0   \n",
      "48783           1                       0                       1   \n",
      "\n",
      "       dem_age_band_35-44_tm1  dem_age_band_45-54_tm1  ...  trig_min-high_tm1  \\\n",
      "0                           0                       1  ...                  0   \n",
      "1                           0                       1  ...                  0   \n",
      "2                           0                       0  ...                  0   \n",
      "3                           0                       0  ...                  0   \n",
      "4                           0                       0  ...                  0   \n",
      "...                       ...                     ...  ...                ...   \n",
      "48779                       0                       0  ...                  0   \n",
      "48780                       0                       1  ...                  0   \n",
      "48781                       0                       0  ...                  0   \n",
      "48782                       0                       0  ...                  0   \n",
      "48783                       0                       0  ...                  0   \n",
      "\n",
      "       trig_min-normal_tm1  trig_mean-low_tm1  trig_mean-high_tm1  \\\n",
      "0                        0                  0                   0   \n",
      "1                        1                  0                   0   \n",
      "2                        0                  0                   0   \n",
      "3                        0                  0                   0   \n",
      "4                        0                  0                   0   \n",
      "...                    ...                ...                 ...   \n",
      "48779                    0                  0                   0   \n",
      "48780                    1                  0                   0   \n",
      "48781                    1                  0                   0   \n",
      "48782                    0                  0                   0   \n",
      "48783                    0                  0                   0   \n",
      "\n",
      "       trig_mean-normal_tm1  trig_max-low_tm1  trig_max-high_tm1  \\\n",
      "0                         0                 0                  0   \n",
      "1                         1                 0                  0   \n",
      "2                         0                 0                  0   \n",
      "3                         0                 0                  0   \n",
      "4                         0                 0                  0   \n",
      "...                     ...               ...                ...   \n",
      "48779                     0                 0                  0   \n",
      "48780                     1                 0                  0   \n",
      "48781                     1                 0                  0   \n",
      "48782                     0                 0                  0   \n",
      "48783                     0                 0                  0   \n",
      "\n",
      "       trig_max-normal_tm1  gagne_sum_tm1  gagne_sum_t  \n",
      "0                        0              0            0  \n",
      "1                        1              4            3  \n",
      "2                        0              0            0  \n",
      "3                        0              0            0  \n",
      "4                        0              1            1  \n",
      "...                    ...            ...          ...  \n",
      "48779                    0              0            0  \n",
      "48780                    1              1            1  \n",
      "48781                    1              1            0  \n",
      "48782                    0              3            3  \n",
      "48783                    0              0            0  \n",
      "\n",
      "[48784 rows x 155 columns]\n"
     ]
    },
    {
     "data": {
      "text/markdown": [
       "#### Test Dataset shape"
      ],
      "text/plain": [
       "<IPython.core.display.Markdown object>"
      ]
     },
     "metadata": {},
     "output_type": "display_data"
    },
    {
     "name": "stdout",
     "output_type": "stream",
     "text": [
      "(48784, 154)\n"
     ]
    },
    {
     "data": {
      "text/markdown": [
       "#### Favorable and unfavorable labels"
      ],
      "text/plain": [
       "<IPython.core.display.Markdown object>"
      ]
     },
     "metadata": {},
     "output_type": "display_data"
    },
    {
     "name": "stdout",
     "output_type": "stream",
     "text": [
      "1.0 0.0\n"
     ]
    },
    {
     "data": {
      "text/markdown": [
       "#### Protected attribute names"
      ],
      "text/plain": [
       "<IPython.core.display.Markdown object>"
      ]
     },
     "metadata": {},
     "output_type": "display_data"
    },
    {
     "name": "stdout",
     "output_type": "stream",
     "text": [
      "['race']\n"
     ]
    },
    {
     "data": {
      "text/markdown": [
       "#### Privileged and unprivileged protected attribute values"
      ],
      "text/plain": [
       "<IPython.core.display.Markdown object>"
      ]
     },
     "metadata": {},
     "output_type": "display_data"
    },
    {
     "name": "stdout",
     "output_type": "stream",
     "text": [
      "[array([1.])] [array([0.])]\n"
     ]
    },
    {
     "data": {
      "text/markdown": [
       "#### Dataset feature names"
      ],
      "text/plain": [
       "<IPython.core.display.Markdown object>"
      ]
     },
     "metadata": {},
     "output_type": "display_data"
    },
    {
     "name": "stdout",
     "output_type": "stream",
     "text": [
      "['risk_score_t', 'program_enrolled_t', 'cost_t', 'cost_avoidable_t', 'race', 'dem_female', 'dem_age_band_18-24_tm1', 'dem_age_band_25-34_tm1', 'dem_age_band_35-44_tm1', 'dem_age_band_45-54_tm1', 'dem_age_band_55-64_tm1', 'dem_age_band_65-74_tm1', 'dem_age_band_75+_tm1', 'alcohol_elixhauser_tm1', 'anemia_elixhauser_tm1', 'arrhythmia_elixhauser_tm1', 'arthritis_elixhauser_tm1', 'bloodlossanemia_elixhauser_tm1', 'coagulopathy_elixhauser_tm1', 'compdiabetes_elixhauser_tm1', 'depression_elixhauser_tm1', 'drugabuse_elixhauser_tm1', 'electrolytes_elixhauser_tm1', 'hypertension_elixhauser_tm1', 'hypothyroid_elixhauser_tm1', 'liver_elixhauser_tm1', 'neurodegen_elixhauser_tm1', 'obesity_elixhauser_tm1', 'paralysis_elixhauser_tm1', 'psychosis_elixhauser_tm1', 'pulmcirc_elixhauser_tm1', 'pvd_elixhauser_tm1', 'renal_elixhauser_tm1', 'uncompdiabetes_elixhauser_tm1', 'valvulardz_elixhauser_tm1', 'wtloss_elixhauser_tm1', 'cerebrovasculardz_romano_tm1', 'chf_romano_tm1', 'dementia_romano_tm1', 'hemiplegia_romano_tm1', 'hivaids_romano_tm1', 'metastatic_romano_tm1', 'myocardialinfarct_romano_tm1', 'pulmonarydz_romano_tm1', 'tumor_romano_tm1', 'ulcer_romano_tm1', 'cost_dialysis_tm1', 'cost_emergency_tm1', 'cost_home_health_tm1', 'cost_ip_medical_tm1', 'cost_ip_surgical_tm1', 'cost_laboratory_tm1', 'cost_op_primary_care_tm1', 'cost_op_specialists_tm1', 'cost_op_surgery_tm1', 'cost_other_tm1', 'cost_pharmacy_tm1', 'cost_physical_therapy_tm1', 'cost_radiology_tm1', 'lasix_dose_count_tm1', 'lasix_min_daily_dose_tm1', 'lasix_mean_daily_dose_tm1', 'lasix_max_daily_dose_tm1', 'cre_tests_tm1', 'crp_tests_tm1', 'esr_tests_tm1', 'ghba1c_tests_tm1', 'hct_tests_tm1', 'ldl_tests_tm1', 'nt_bnp_tests_tm1', 'sodium_tests_tm1', 'trig_tests_tm1', 'cre_min-low_tm1', 'cre_min-high_tm1', 'cre_min-normal_tm1', 'cre_mean-low_tm1', 'cre_mean-high_tm1', 'cre_mean-normal_tm1', 'cre_max-low_tm1', 'cre_max-high_tm1', 'cre_max-normal_tm1', 'crp_min-low_tm1', 'crp_min-high_tm1', 'crp_min-normal_tm1', 'crp_mean-low_tm1', 'crp_mean-high_tm1', 'crp_mean-normal_tm1', 'crp_max-low_tm1', 'crp_max-high_tm1', 'crp_max-normal_tm1', 'esr_min-low_tm1', 'esr_min-high_tm1', 'esr_min-normal_tm1', 'esr_mean-low_tm1', 'esr_mean-high_tm1', 'esr_mean-normal_tm1', 'esr_max-low_tm1', 'esr_max-high_tm1', 'esr_max-normal_tm1', 'ghba1c_min-low_tm1', 'ghba1c_min-high_tm1', 'ghba1c_min-normal_tm1', 'ghba1c_mean-low_tm1', 'ghba1c_mean-high_tm1', 'ghba1c_mean-normal_tm1', 'ghba1c_max-low_tm1', 'ghba1c_max-high_tm1', 'ghba1c_max-normal_tm1', 'hct_min-low_tm1', 'hct_min-high_tm1', 'hct_min-normal_tm1', 'hct_mean-low_tm1', 'hct_mean-high_tm1', 'hct_mean-normal_tm1', 'hct_max-low_tm1', 'hct_max-high_tm1', 'hct_max-normal_tm1', 'ldl_min-low_tm1', 'ldl_min-high_tm1', 'ldl_min-normal_tm1', 'ldl-mean-low_tm1', 'ldl-mean-high_tm1', 'ldl-mean-normal_tm1', 'ldl_max-low_tm1', 'ldl_max-high_tm1', 'ldl_max-normal_tm1', 'nt_bnp_min-low_tm1', 'nt_bnp_min-high_tm1', 'nt_bnp_min-normal_tm1', 'nt_bnp_mean-low_tm1', 'nt_bnp_mean-high_tm1', 'nt_bnp_mean-normal_tm1', 'nt_bnp_max-low_tm1', 'nt_bnp_max-high_tm1', 'nt_bnp_max-normal_tm1', 'sodium_min-low_tm1', 'sodium_min-high_tm1', 'sodium_min-normal_tm1', 'sodium_mean-low_tm1', 'sodium_mean-high_tm1', 'sodium_mean-normal_tm1', 'sodium_max-low_tm1', 'sodium_max-high_tm1', 'sodium_max-normal_tm1', 'trig_min-low_tm1', 'trig_min-high_tm1', 'trig_min-normal_tm1', 'trig_mean-low_tm1', 'trig_mean-high_tm1', 'trig_mean-normal_tm1', 'trig_max-low_tm1', 'trig_max-high_tm1', 'trig_max-normal_tm1', 'gagne_sum_tm1']\n"
     ]
    }
   ],
   "source": [
    "dataset_orig_panel21_deploy = RiskDataset()\n",
    "\n",
    "# now align it with the panel19 datasets\n",
    "dataset_orig_panel21_deploy = dataset_orig_panel19_train.align_datasets(dataset_orig_panel21_deploy)\n",
    "\n",
    "describe(test=dataset_orig_panel21_deploy)"
   ]
  },
  {
   "cell_type": "code",
   "execution_count": null,
   "metadata": {
    "tags": []
   },
   "outputs": [
    {
     "name": "stdout",
     "output_type": "stream",
     "text": [
      "Disparate impact (probability of favorable outcome for unprivileged instances / probability of favorable outcome for privileged instances): 1.0162291965131818\n"
     ]
    }
   ],
   "source": [
    "metric_orig_panel21_deploy = BinaryLabelDatasetMetric(\n",
    "        dataset_orig_panel21_deploy, \n",
    "        unprivileged_groups=unprivileged_groups,\n",
    "        privileged_groups=privileged_groups)\n",
    "explainer_orig_panel21_deploy = MetricTextExplainer(metric_orig_panel21_deploy)\n",
    "\n",
    "print(explainer_orig_panel21_deploy.disparate_impact())"
   ]
  },
  {
   "cell_type": "markdown",
   "metadata": {},
   "source": [
    "Now, the logistic regression classifier trained on the panel 19 data after reweighing is tested against the panel 21 deployment data."
   ]
  },
  {
   "cell_type": "code",
   "execution_count": null,
   "metadata": {},
   "outputs": [],
   "source": [
    "lr_transf_metrics_panel21_deploy = test(\n",
    "        dataset=dataset_orig_panel21_deploy,\n",
    "        model=lr_transf_panel19,\n",
    "        thresh_arr=[thresh_arr[lr_transf_best_ind]])"
   ]
  },
  {
   "cell_type": "code",
   "execution_count": null,
   "metadata": {
    "tags": []
   },
   "outputs": [
    {
     "name": "stdout",
     "output_type": "stream",
     "text": [
      "Threshold corresponding to Best balanced accuracy: 0.2500\n",
      "Best balanced accuracy: 0.6700\n",
      "Corresponding 1-min(DI, 1/DI) value: 0.0884\n",
      "Corresponding average odds difference value: 0.0306\n",
      "Corresponding statistical parity difference value: 0.0338\n",
      "Corresponding equal opportunity difference value: 0.0272\n",
      "Corresponding Theil index value: 0.1447\n"
     ]
    }
   ],
   "source": [
    "describe_metrics(lr_transf_metrics_panel21_deploy, [thresh_arr[lr_transf_best_ind]])"
   ]
  },
  {
   "cell_type": "markdown",
   "metadata": {},
   "source": [
    "Compared to the 2015 panel 20 deployment data results, the $|1 - \\text{disparate impact}|$ fairness metric shows a noticable drift upwards. While still within specs, it may be worthwhile to re-learn the model. So even though the model is still relatively fair and accurate, we go ahead and re-learn the model from the 2015 Panel 20 data."
   ]
  },
  {
   "cell_type": "markdown",
   "metadata": {},
   "source": [
    "### 9.2. Re-learning model (from 2015 Panel 20 data)"
   ]
  },
  {
   "cell_type": "code",
   "execution_count": null,
   "metadata": {},
   "outputs": [
    {
     "name": "stdout",
     "output_type": "stream",
     "text": [
      "/Users/megha/Fall_2022/CPSC464/Git/cpsc464-group1/data/data_new.csv\n",
      "       risk_score_t  program_enrolled_t  cost_t  cost_avoidable_t   race  \\\n",
      "0          1.987430                   0  1200.0               0.0  white   \n",
      "1          7.677934                   0  2600.0               0.0  white   \n",
      "2          0.407678                   0   500.0               0.0  white   \n",
      "3          0.798369                   0  1300.0               0.0  white   \n",
      "4         17.513165                   0  1100.0               0.0  white   \n",
      "...             ...                 ...     ...               ...    ...   \n",
      "48779      0.611517                   0   800.0               0.0  white   \n",
      "48780      2.615933                   0  2200.0               0.0  white   \n",
      "48781      1.358926                   0   800.0               0.0  white   \n",
      "48782     10.990318                   0  1300.0               0.0  white   \n",
      "48783      1.681671                   0  4400.0               0.0  white   \n",
      "\n",
      "       dem_female  dem_age_band_18-24_tm1  dem_age_band_25-34_tm1  \\\n",
      "0               0                       0                       0   \n",
      "1               1                       0                       0   \n",
      "2               1                       0                       1   \n",
      "3               1                       1                       0   \n",
      "4               1                       0                       0   \n",
      "...           ...                     ...                     ...   \n",
      "48779           0                       0                       1   \n",
      "48780           1                       0                       0   \n",
      "48781           1                       0                       0   \n",
      "48782           1                       0                       0   \n",
      "48783           1                       0                       1   \n",
      "\n",
      "       dem_age_band_35-44_tm1  dem_age_band_45-54_tm1  ...  trig_min-high_tm1  \\\n",
      "0                           0                       1  ...                  0   \n",
      "1                           0                       1  ...                  0   \n",
      "2                           0                       0  ...                  0   \n",
      "3                           0                       0  ...                  0   \n",
      "4                           0                       0  ...                  0   \n",
      "...                       ...                     ...  ...                ...   \n",
      "48779                       0                       0  ...                  0   \n",
      "48780                       0                       1  ...                  0   \n",
      "48781                       0                       0  ...                  0   \n",
      "48782                       0                       0  ...                  0   \n",
      "48783                       0                       0  ...                  0   \n",
      "\n",
      "       trig_min-normal_tm1  trig_mean-low_tm1  trig_mean-high_tm1  \\\n",
      "0                        0                  0                   0   \n",
      "1                        1                  0                   0   \n",
      "2                        0                  0                   0   \n",
      "3                        0                  0                   0   \n",
      "4                        0                  0                   0   \n",
      "...                    ...                ...                 ...   \n",
      "48779                    0                  0                   0   \n",
      "48780                    1                  0                   0   \n",
      "48781                    1                  0                   0   \n",
      "48782                    0                  0                   0   \n",
      "48783                    0                  0                   0   \n",
      "\n",
      "       trig_mean-normal_tm1  trig_max-low_tm1  trig_max-high_tm1  \\\n",
      "0                         0                 0                  0   \n",
      "1                         1                 0                  0   \n",
      "2                         0                 0                  0   \n",
      "3                         0                 0                  0   \n",
      "4                         0                 0                  0   \n",
      "...                     ...               ...                ...   \n",
      "48779                     0                 0                  0   \n",
      "48780                     1                 0                  0   \n",
      "48781                     1                 0                  0   \n",
      "48782                     0                 0                  0   \n",
      "48783                     0                 0                  0   \n",
      "\n",
      "       trig_max-normal_tm1  gagne_sum_tm1  gagne_sum_t  \n",
      "0                        0              0            0  \n",
      "1                        1              4            3  \n",
      "2                        0              0            0  \n",
      "3                        0              0            0  \n",
      "4                        0              1            1  \n",
      "...                    ...            ...          ...  \n",
      "48779                    0              0            0  \n",
      "48780                    1              1            1  \n",
      "48781                    1              1            0  \n",
      "48782                    0              3            3  \n",
      "48783                    0              0            0  \n",
      "\n",
      "[48784 rows x 155 columns]\n"
     ]
    }
   ],
   "source": [
    "(dataset_orig_panel20_train,\n",
    " dataset_orig_panel20_val,\n",
    " dataset_orig_panel20_test) = RiskDataset().split([0.5, 0.8], shuffle=True) \n",
    "\n",
    "# now align them with the 2014 datasets\n",
    "dataset_orig_panel20_train = dataset_orig_panel19_train.align_datasets(dataset_orig_panel20_train)\n",
    "dataset_orig_panel20_val = dataset_orig_panel19_train.align_datasets(dataset_orig_panel20_val)\n",
    "dataset_orig_panel20_test = dataset_orig_panel19_train.align_datasets(dataset_orig_panel20_test)"
   ]
  },
  {
   "cell_type": "markdown",
   "metadata": {},
   "source": [
    "**Train and evaluate  new model on 'transformed' 2016 training/test data**"
   ]
  },
  {
   "cell_type": "code",
   "execution_count": null,
   "metadata": {},
   "outputs": [],
   "source": [
    "RW = Reweighing(unprivileged_groups=unprivileged_groups,\n",
    "                privileged_groups=privileged_groups)\n",
    "RW.fit(dataset_orig_panel20_train)\n",
    "dataset_transf_panel20_train = RW.transform(dataset_orig_panel20_train)"
   ]
  },
  {
   "cell_type": "code",
   "execution_count": null,
   "metadata": {
    "tags": []
   },
   "outputs": [
    {
     "name": "stdout",
     "output_type": "stream",
     "text": [
      "Disparate impact (probability of favorable outcome for unprivileged instances / probability of favorable outcome for privileged instances): 1.0\n"
     ]
    }
   ],
   "source": [
    "metric_transf_panel20_train = BinaryLabelDatasetMetric(\n",
    "        dataset_transf_panel20_train, \n",
    "        unprivileged_groups=unprivileged_groups,\n",
    "        privileged_groups=privileged_groups)\n",
    "explainer_transf_panel20_train = MetricTextExplainer(metric_transf_panel20_train)\n",
    "\n",
    "print(explainer_transf_panel20_train.disparate_impact())"
   ]
  },
  {
   "cell_type": "code",
   "execution_count": null,
   "metadata": {},
   "outputs": [],
   "source": [
    "dataset = dataset_transf_panel20_train\n",
    "model = make_pipeline(StandardScaler(),\n",
    "                      LogisticRegression(solver='liblinear', random_state=1))\n",
    "fit_params = {'logisticregression__sample_weight': dataset.instance_weights}\n",
    "lr_transf_panel20 = model.fit(dataset.features, dataset.labels.ravel(), **fit_params)"
   ]
  },
  {
   "cell_type": "code",
   "execution_count": null,
   "metadata": {},
   "outputs": [],
   "source": [
    "thresh_arr = np.linspace(0.01, 0.5, 50)\n",
    "val_metrics = test(dataset=dataset_orig_panel20_val,\n",
    "                   model=lr_transf_panel20,\n",
    "                   thresh_arr=thresh_arr)\n",
    "lr_transf_best_ind_panel20 = np.argmax(val_metrics['bal_acc'])"
   ]
  },
  {
   "cell_type": "code",
   "execution_count": null,
   "metadata": {},
   "outputs": [
    {
     "data": {
      "image/png": "[encoded data removed]",
      "text/plain": [
       "<Figure size 720x504 with 2 Axes>"
      ]
     },
     "metadata": {
      "needs_background": "light"
     },
     "output_type": "display_data"
    }
   ],
   "source": [
    "disp_imp = np.array(val_metrics['disp_imp'])\n",
    "disp_imp_err = 1 - np.minimum(disp_imp, 1/disp_imp)\n",
    "plot(thresh_arr, 'Classification Thresholds',\n",
    "     val_metrics['bal_acc'], 'Balanced Accuracy',\n",
    "     disp_imp_err, '1 - min(DI, 1/DI)')"
   ]
  },
  {
   "cell_type": "code",
   "execution_count": null,
   "metadata": {},
   "outputs": [
    {
     "data": {
      "image/png": "[encoded data removed]",
      "text/plain": [
       "<Figure size 720x504 with 2 Axes>"
      ]
     },
     "metadata": {
      "needs_background": "light"
     },
     "output_type": "display_data"
    }
   ],
   "source": [
    "plot(thresh_arr, 'Classification Thresholds',\n",
    "     val_metrics['bal_acc'], 'Balanced Accuracy',\n",
    "     val_metrics['avg_odds_diff'], 'avg. odds diff.')"
   ]
  },
  {
   "cell_type": "code",
   "execution_count": null,
   "metadata": {
    "tags": []
   },
   "outputs": [
    {
     "name": "stdout",
     "output_type": "stream",
     "text": [
      "Threshold corresponding to Best balanced accuracy: 0.2500\n",
      "Best balanced accuracy: 0.6633\n",
      "Corresponding 1-min(DI, 1/DI) value: 0.0498\n",
      "Corresponding average odds difference value: 0.0173\n",
      "Corresponding statistical parity difference value: 0.0195\n",
      "Corresponding equal opportunity difference value: 0.0182\n",
      "Corresponding Theil index value: 0.1450\n"
     ]
    }
   ],
   "source": [
    "describe_metrics(val_metrics, thresh_arr)"
   ]
  },
  {
   "cell_type": "code",
   "execution_count": null,
   "metadata": {},
   "outputs": [],
   "source": [
    "lr_transf_metrics_panel20_test = test(\n",
    "        dataset=dataset_orig_panel20_test,\n",
    "        model=lr_transf_panel20,\n",
    "        thresh_arr=[thresh_arr[lr_transf_best_ind_panel20]])"
   ]
  },
  {
   "cell_type": "code",
   "execution_count": null,
   "metadata": {
    "tags": []
   },
   "outputs": [
    {
     "name": "stdout",
     "output_type": "stream",
     "text": [
      "Threshold corresponding to Best balanced accuracy: 0.2500\n",
      "Best balanced accuracy: 0.6558\n",
      "Corresponding 1-min(DI, 1/DI) value: 0.0605\n",
      "Corresponding average odds difference value: 0.0097\n",
      "Corresponding statistical parity difference value: 0.0232\n",
      "Corresponding equal opportunity difference value: -0.0149\n",
      "Corresponding Theil index value: 0.1453\n"
     ]
    }
   ],
   "source": [
    "describe_metrics(lr_transf_metrics_panel20_test, [thresh_arr[lr_transf_best_ind_panel20]])"
   ]
  },
  {
   "cell_type": "markdown",
   "metadata": {},
   "source": [
    "The new model is both relatively fair as well as accurate so we deploy and test against the 2016 deployment data"
   ]
  },
  {
   "cell_type": "markdown",
   "metadata": {},
   "source": [
    "### 9.3. Testing model learned on 2015 (Panel 20) data on 2016 (Panel 21) deployment data"
   ]
  },
  {
   "cell_type": "markdown",
   "metadata": {},
   "source": [
    "**Evaluate new 2015 transformed data model and evaluate again on 2016 deployment data**"
   ]
  },
  {
   "cell_type": "code",
   "execution_count": null,
   "metadata": {},
   "outputs": [],
   "source": [
    "lr_transf_panel20_metrics_panel21_deploy = test(\n",
    "        dataset=dataset_orig_panel21_deploy,\n",
    "        model=lr_transf_panel20,\n",
    "        thresh_arr=[thresh_arr[lr_transf_best_ind_panel20]])"
   ]
  },
  {
   "cell_type": "code",
   "execution_count": null,
   "metadata": {
    "tags": []
   },
   "outputs": [
    {
     "name": "stdout",
     "output_type": "stream",
     "text": [
      "Threshold corresponding to Best balanced accuracy: 0.2500\n",
      "Best balanced accuracy: 0.6676\n",
      "Corresponding 1-min(DI, 1/DI) value: 0.0692\n",
      "Corresponding average odds difference value: 0.0246\n",
      "Corresponding statistical parity difference value: 0.0273\n",
      "Corresponding equal opportunity difference value: 0.0218\n",
      "Corresponding Theil index value: 0.1425\n"
     ]
    }
   ],
   "source": [
    "describe_metrics(lr_transf_panel20_metrics_panel21_deploy, [thresh_arr[lr_transf_best_ind_panel20]])"
   ]
  },
  {
   "cell_type": "markdown",
   "metadata": {},
   "source": [
    "The new transformed 2016 data model is again within original accuracy/fairness specs so is deployed"
   ]
  },
  {
   "cell_type": "markdown",
   "metadata": {},
   "source": [
    "## [10.](#Table-of-Contents) SUMMARY"
   ]
  },
  {
   "cell_type": "code",
   "execution_count": null,
   "metadata": {},
   "outputs": [],
   "source": [
    "import pandas as pd"
   ]
  },
  {
   "cell_type": "code",
   "execution_count": null,
   "metadata": {
    "scrolled": true
   },
   "outputs": [
    {
     "data": {
      "text/html": [
       "<div>\n",
       "<style scoped>\n",
       "    .dataframe tbody tr th:only-of-type {\n",
       "        vertical-align: middle;\n",
       "    }\n",
       "\n",
       "    .dataframe tbody tr th {\n",
       "        vertical-align: top;\n",
       "    }\n",
       "\n",
       "    .dataframe thead th {\n",
       "        text-align: right;\n",
       "    }\n",
       "</style>\n",
       "<table border=\"1\" class=\"dataframe\">\n",
       "  <thead>\n",
       "    <tr style=\"text-align: right;\">\n",
       "      <th></th>\n",
       "      <th></th>\n",
       "      <th></th>\n",
       "      <th></th>\n",
       "      <th>bal_acc</th>\n",
       "      <th>avg_odds_diff</th>\n",
       "      <th>disp_imp</th>\n",
       "      <th>stat_par_diff</th>\n",
       "      <th>eq_opp_diff</th>\n",
       "      <th>theil_ind</th>\n",
       "    </tr>\n",
       "    <tr>\n",
       "      <th>Bias Mitigator</th>\n",
       "      <th>Classifier</th>\n",
       "      <th>Training set</th>\n",
       "      <th>Testing set</th>\n",
       "      <th></th>\n",
       "      <th></th>\n",
       "      <th></th>\n",
       "      <th></th>\n",
       "      <th></th>\n",
       "      <th></th>\n",
       "    </tr>\n",
       "  </thead>\n",
       "  <tbody>\n",
       "    <tr>\n",
       "      <th></th>\n",
       "      <th>Logistic Regression</th>\n",
       "      <th>Panel19</th>\n",
       "      <th>Panel19</th>\n",
       "      <td>0.662623</td>\n",
       "      <td>0.010284</td>\n",
       "      <td>1.044415</td>\n",
       "      <td>0.015322</td>\n",
       "      <td>0.003489</td>\n",
       "      <td>0.148907</td>\n",
       "    </tr>\n",
       "    <tr>\n",
       "      <th rowspan=\"5\" valign=\"top\">Reweighing</th>\n",
       "      <th rowspan=\"5\" valign=\"top\">Logistic Regression</th>\n",
       "      <th rowspan=\"3\" valign=\"top\">Panel19</th>\n",
       "      <th>Panel19</th>\n",
       "      <td>0.662182</td>\n",
       "      <td>0.030424</td>\n",
       "      <td>1.102831</td>\n",
       "      <td>0.035343</td>\n",
       "      <td>0.023846</td>\n",
       "      <td>0.148906</td>\n",
       "    </tr>\n",
       "    <tr>\n",
       "      <th>Panel20</th>\n",
       "      <td>0.669985</td>\n",
       "      <td>0.030640</td>\n",
       "      <td>1.096972</td>\n",
       "      <td>0.033764</td>\n",
       "      <td>0.027169</td>\n",
       "      <td>0.144700</td>\n",
       "    </tr>\n",
       "    <tr>\n",
       "      <th>Panel21</th>\n",
       "      <td>0.669985</td>\n",
       "      <td>0.030640</td>\n",
       "      <td>1.096972</td>\n",
       "      <td>0.033764</td>\n",
       "      <td>0.027169</td>\n",
       "      <td>0.144700</td>\n",
       "    </tr>\n",
       "    <tr>\n",
       "      <th rowspan=\"2\" valign=\"top\">Panel20</th>\n",
       "      <th>Panel20</th>\n",
       "      <td>0.655829</td>\n",
       "      <td>0.009732</td>\n",
       "      <td>1.064452</td>\n",
       "      <td>0.023167</td>\n",
       "      <td>-0.014875</td>\n",
       "      <td>0.145304</td>\n",
       "    </tr>\n",
       "    <tr>\n",
       "      <th>Panel21</th>\n",
       "      <td>0.667633</td>\n",
       "      <td>0.024579</td>\n",
       "      <td>1.074364</td>\n",
       "      <td>0.027317</td>\n",
       "      <td>0.021792</td>\n",
       "      <td>0.142482</td>\n",
       "    </tr>\n",
       "  </tbody>\n",
       "</table>\n",
       "</div>"
      ],
      "text/plain": [
       "                                                              bal_acc  \\\n",
       "Bias Mitigator Classifier          Training set Testing set             \n",
       "               Logistic Regression Panel19      Panel19      0.662623   \n",
       "Reweighing     Logistic Regression Panel19      Panel19      0.662182   \n",
       "                                                Panel20      0.669985   \n",
       "                                                Panel21      0.669985   \n",
       "                                   Panel20      Panel20      0.655829   \n",
       "                                                Panel21      0.667633   \n",
       "\n",
       "                                                             avg_odds_diff  \\\n",
       "Bias Mitigator Classifier          Training set Testing set                  \n",
       "               Logistic Regression Panel19      Panel19           0.010284   \n",
       "Reweighing     Logistic Regression Panel19      Panel19           0.030424   \n",
       "                                                Panel20           0.030640   \n",
       "                                                Panel21           0.030640   \n",
       "                                   Panel20      Panel20           0.009732   \n",
       "                                                Panel21           0.024579   \n",
       "\n",
       "                                                             disp_imp  \\\n",
       "Bias Mitigator Classifier          Training set Testing set             \n",
       "               Logistic Regression Panel19      Panel19      1.044415   \n",
       "Reweighing     Logistic Regression Panel19      Panel19      1.102831   \n",
       "                                                Panel20      1.096972   \n",
       "                                                Panel21      1.096972   \n",
       "                                   Panel20      Panel20      1.064452   \n",
       "                                                Panel21      1.074364   \n",
       "\n",
       "                                                             stat_par_diff  \\\n",
       "Bias Mitigator Classifier          Training set Testing set                  \n",
       "               Logistic Regression Panel19      Panel19           0.015322   \n",
       "Reweighing     Logistic Regression Panel19      Panel19           0.035343   \n",
       "                                                Panel20           0.033764   \n",
       "                                                Panel21           0.033764   \n",
       "                                   Panel20      Panel20           0.023167   \n",
       "                                                Panel21           0.027317   \n",
       "\n",
       "                                                             eq_opp_diff  \\\n",
       "Bias Mitigator Classifier          Training set Testing set                \n",
       "               Logistic Regression Panel19      Panel19         0.003489   \n",
       "Reweighing     Logistic Regression Panel19      Panel19         0.023846   \n",
       "                                                Panel20         0.027169   \n",
       "                                                Panel21         0.027169   \n",
       "                                   Panel20      Panel20        -0.014875   \n",
       "                                                Panel21         0.021792   \n",
       "\n",
       "                                                             theil_ind  \n",
       "Bias Mitigator Classifier          Training set Testing set             \n",
       "               Logistic Regression Panel19      Panel19       0.148907  \n",
       "Reweighing     Logistic Regression Panel19      Panel19       0.148906  \n",
       "                                                Panel20       0.144700  \n",
       "                                                Panel21       0.144700  \n",
       "                                   Panel20      Panel20       0.145304  \n",
       "                                                Panel21       0.142482  "
      ]
     },
     "execution_count": 74,
     "metadata": {},
     "output_type": "execute_result"
    }
   ],
   "source": [
    "results = [lr_orig_metrics, lr_transf_metrics,\n",
    "           lr_transf_metrics_panel20_deploy,\n",
    "           lr_transf_metrics_panel21_deploy,\n",
    "           lr_transf_metrics_panel20_test,\n",
    "           lr_transf_panel20_metrics_panel21_deploy]\n",
    "debias = pd.Series([''] + ['Reweighing']*5, name='Bias Mitigator')\n",
    "clf = pd.Series(['Logistic Regression']*6, name='Classifier')\n",
    "tr = pd.Series(['Panel19']*4 + ['Panel20']*2, name='Training set')\n",
    "te = pd.Series(['Panel19']*2 + ['Panel20', 'Panel21']*2, name='Testing set')\n",
    "pd.concat([pd.DataFrame(m) for m in results], axis=0).set_index([debias, clf, tr, te])"
   ]
  }
 ],
 "metadata": {
  "kernelspec": {
   "display_name": "Python 3.8.8 ('base')",
   "language": "python",
   "name": "python3"
  },
  "language_info": {
   "codemirror_mode": {
    "name": "ipython",
    "version": 3
   },
   "file_extension": ".py",
   "mimetype": "text/x-python",
   "name": "python",
   "nbconvert_exporter": "python",
   "pygments_lexer": "ipython3",
   "version": "3.8.8"
  },
  "vscode": {
   "interpreter": {
    "hash": "13183a0cafd097b08486267d25fd083311679753ec5201cf38f98ab1904cf572"
   }
  }
 },
 "nbformat": 4,
 "nbformat_minor": 2
}
