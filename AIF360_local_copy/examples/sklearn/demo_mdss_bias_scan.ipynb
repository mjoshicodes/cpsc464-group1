{
  "cells": [
    {
      "cell_type": "markdown",
      "metadata": {
        "id": "-8hjwN6W0VJz"
      },
      "source": [
        "[![Open In Colab](https://colab.research.google.com/assets/colab-badge.svg)](https://colab.research.google.com/github/Trusted-AI/AIF360/blob/master/examples/sklearn/demo_mdss_bias_scan.ipynb)"
      ]
    },
    {
      "cell_type": "markdown",
      "metadata": {
        "id": "TMH4ugRk0JiK"
      },
      "source": [
        "# Identifying Significant Predictive Bias in Classifiers\n",
        "\n",
        "In this notebook, we attempt to recreate the analysis by Zhe Zhang and Daniel Neill in [Identifying Significant Predictive Bias in Classifiers](https://arxiv.org/pdf/1611.08292.pdf).\n",
        "\n",
        "The analysis is broken down into three steps, starting with a model trained on COMPAS decile scores only. After running bias scan, we add the distinguishing feature, priors count, to the model. We scan again and train a third model with the new subgroups accounted for. Finally, we reproduce Figure 2 from the paper."
      ]
    },
    {
      "cell_type": "code",
      "execution_count": 1,
      "metadata": {
        "id": "cNtZqZph0LDC"
      },
      "outputs": [
        {
          "name": "stdout",
          "output_type": "stream",
          "text": [
            "Requirement already satisfied: aif360 in /Library/Frameworks/Python.framework/Versions/3.10/lib/python3.10/site-packages (0.5.0)\n",
            "Requirement already satisfied: scikit-learn>=1.0 in /Library/Frameworks/Python.framework/Versions/3.10/lib/python3.10/site-packages (from aif360) (1.1.3)\n",
            "Requirement already satisfied: scipy>=1.2.0 in /Library/Frameworks/Python.framework/Versions/3.10/lib/python3.10/site-packages (from aif360) (1.9.2)\n",
            "Requirement already satisfied: matplotlib in /Library/Frameworks/Python.framework/Versions/3.10/lib/python3.10/site-packages (from aif360) (3.6.2)\n",
            "Requirement already satisfied: pandas>=0.24.0 in /Library/Frameworks/Python.framework/Versions/3.10/lib/python3.10/site-packages (from aif360) (1.5.0)\n",
            "Requirement already satisfied: numpy>=1.16 in /Library/Frameworks/Python.framework/Versions/3.10/lib/python3.10/site-packages (from aif360) (1.23.4)\n",
            "Requirement already satisfied: pytz>=2020.1 in /Library/Frameworks/Python.framework/Versions/3.10/lib/python3.10/site-packages (from pandas>=0.24.0->aif360) (2022.4)\n",
            "Requirement already satisfied: python-dateutil>=2.8.1 in /Library/Frameworks/Python.framework/Versions/3.10/lib/python3.10/site-packages (from pandas>=0.24.0->aif360) (2.8.2)\n",
            "Requirement already satisfied: threadpoolctl>=2.0.0 in /Library/Frameworks/Python.framework/Versions/3.10/lib/python3.10/site-packages (from scikit-learn>=1.0->aif360) (3.1.0)\n",
            "Requirement already satisfied: joblib>=1.0.0 in /Library/Frameworks/Python.framework/Versions/3.10/lib/python3.10/site-packages (from scikit-learn>=1.0->aif360) (1.2.0)\n",
            "Requirement already satisfied: contourpy>=1.0.1 in /Library/Frameworks/Python.framework/Versions/3.10/lib/python3.10/site-packages (from matplotlib->aif360) (1.0.5)\n",
            "Requirement already satisfied: packaging>=20.0 in /Library/Frameworks/Python.framework/Versions/3.10/lib/python3.10/site-packages (from matplotlib->aif360) (21.3)\n",
            "Requirement already satisfied: pillow>=6.2.0 in /Library/Frameworks/Python.framework/Versions/3.10/lib/python3.10/site-packages (from matplotlib->aif360) (9.2.0)\n",
            "Requirement already satisfied: kiwisolver>=1.0.1 in /Library/Frameworks/Python.framework/Versions/3.10/lib/python3.10/site-packages (from matplotlib->aif360) (1.4.4)\n",
            "Requirement already satisfied: fonttools>=4.22.0 in /Library/Frameworks/Python.framework/Versions/3.10/lib/python3.10/site-packages (from matplotlib->aif360) (4.37.4)\n",
            "Requirement already satisfied: cycler>=0.10 in /Library/Frameworks/Python.framework/Versions/3.10/lib/python3.10/site-packages (from matplotlib->aif360) (0.11.0)\n",
            "Requirement already satisfied: pyparsing>=2.2.1 in /Library/Frameworks/Python.framework/Versions/3.10/lib/python3.10/site-packages (from matplotlib->aif360) (3.0.9)\n",
            "Requirement already satisfied: six>=1.5 in /Library/Frameworks/Python.framework/Versions/3.10/lib/python3.10/site-packages (from python-dateutil>=2.8.1->pandas>=0.24.0->aif360) (1.16.0)\n"
          ]
        }
      ],
      "source": [
        "# Install AIF360\n",
        "!pip install 'aif360'"
      ]
    },
    {
      "cell_type": "code",
      "execution_count": 2,
      "metadata": {
        "id": "muU69Pg20JiY"
      },
      "outputs": [
        {
          "ename": "ModuleNotFoundError",
          "evalue": "No module named 'seaborn'",
          "output_type": "error",
          "traceback": [
            "\u001b[0;31m---------------------------------------------------------------------------\u001b[0m",
            "\u001b[0;31mModuleNotFoundError\u001b[0m                       Traceback (most recent call last)",
            "Cell \u001b[0;32mIn [2], line 4\u001b[0m\n\u001b[1;32m      2\u001b[0m \u001b[39mimport\u001b[39;00m \u001b[39mnumpy\u001b[39;00m \u001b[39mas\u001b[39;00m \u001b[39mnp\u001b[39;00m\n\u001b[1;32m      3\u001b[0m \u001b[39mimport\u001b[39;00m \u001b[39mpandas\u001b[39;00m \u001b[39mas\u001b[39;00m \u001b[39mpd\u001b[39;00m\n\u001b[0;32m----> 4\u001b[0m \u001b[39mimport\u001b[39;00m \u001b[39mseaborn\u001b[39;00m \u001b[39mas\u001b[39;00m \u001b[39msns\u001b[39;00m\n\u001b[1;32m      5\u001b[0m sns\u001b[39m.\u001b[39mset(context\u001b[39m=\u001b[39m\u001b[39m'\u001b[39m\u001b[39mtalk\u001b[39m\u001b[39m'\u001b[39m, style\u001b[39m=\u001b[39m\u001b[39m'\u001b[39m\u001b[39mwhitegrid\u001b[39m\u001b[39m'\u001b[39m)\n\u001b[1;32m      7\u001b[0m \u001b[39mfrom\u001b[39;00m \u001b[39msklearn\u001b[39;00m\u001b[39m.\u001b[39;00m\u001b[39mmetrics\u001b[39;00m \u001b[39mimport\u001b[39;00m RocCurveDisplay\n",
            "\u001b[0;31mModuleNotFoundError\u001b[0m: No module named 'seaborn'"
          ]
        }
      ],
      "source": [
        "import matplotlib.pyplot as plt\n",
        "import numpy as np\n",
        "import pandas as pd\n",
        "import seaborn as sns\n",
        "sns.set(context='talk', style='whitegrid')\n",
        "\n",
        "from sklearn.metrics import RocCurveDisplay\n",
        "from sklearn.model_selection import train_test_split\n",
        "from sklearn.linear_model import LogisticRegression\n",
        "\n",
        "from aif360.sklearn.datasets import fetch_compas\n",
        "from aif360.sklearn.metrics import mdss_bias_scan, mdss_bias_score"
      ]
    },
    {
      "cell_type": "markdown",
      "metadata": {
        "id": "p9UbLZxv0Jid"
      },
      "source": [
        "Data loading"
      ]
    },
    {
      "cell_type": "code",
      "execution_count": null,
      "metadata": {
        "id": "fGqb0ZGc0Jie",
        "outputId": "f090b129-0d8d-4573-e77d-69489bc16874"
      },
      "outputs": [],
      "source": [
        "cols = ['sex', 'race', 'age_cat', 'priors_count', 'c_charge_degree', 'decile_score']\n",
        "X, y = fetch_compas(usecols=cols)\n",
        "# Quantize priors count between 0, 1-5, and >5\n",
        "X['priors_count'] = pd.cut(X['priors_count'], [-1, 0, 5, 100],\n",
        "                           labels=['0', '1 to 5', 'More than 5'])\n",
        "X"
      ]
    },
    {
      "cell_type": "markdown",
      "metadata": {
        "id": "TNU-3kNO0Jif"
      },
      "source": [
        "### 1. Decile score only"
      ]
    },
    {
      "cell_type": "code",
      "execution_count": null,
      "metadata": {
        "id": "V-oGf_Kr0Jig",
        "outputId": "b80bbe35-bae8-47f9-c6a4-0849d2f3994a"
      },
      "outputs": [],
      "source": [
        "dec = X[['decile_score']]\n",
        "northpointe = LogisticRegression(penalty='none').fit(dec, y)\n",
        "y_prob = northpointe.predict_proba(dec)[:, 1]\n",
        "\n",
        "f, ax = plt.subplots(figsize=(6, 6))\n",
        "RocCurveDisplay.from_estimator(northpointe, dec, y, ax=ax);"
      ]
    },
    {
      "cell_type": "code",
      "execution_count": null,
      "metadata": {
        "id": "FdGrKX300Jig"
      },
      "outputs": [],
      "source": [
        "df = pd.concat([X, pd.Series(1-y_prob, name='recid_prob', index=X.index)], axis=1)\n",
        "orig_clf = df.groupby('decile_score').mean().recid_prob"
      ]
    },
    {
      "cell_type": "markdown",
      "metadata": {
        "id": "0jy-EJU80Jih"
      },
      "source": [
        "#### Privileged group\n",
        "\n",
        "\"Privileged\" in this case means the model underestimates the probability of recidivism (overestimates favorable outcomes) for this subgroup. This leads to advantage for those individuals."
      ]
    },
    {
      "cell_type": "code",
      "execution_count": null,
      "metadata": {
        "id": "9okV_MYh0Jii",
        "outputId": "7d43e67c-99f9-4c96-dbe4-4ba7edb9f762"
      },
      "outputs": [],
      "source": [
        "priv_sub, priv_score = mdss_bias_scan(y, y_prob, X=X, pos_label='Survived',\n",
        "                                      penalty=0.5, privileged=True)\n",
        "priv = df[priv_sub.keys()].isin(priv_sub).all(axis=1)\n",
        "priv_sub, priv_score"
      ]
    },
    {
      "cell_type": "markdown",
      "metadata": {
        "id": "uwyQpJUq0Jij"
      },
      "source": [
        "Note: we show probabilities of recidivism but bias scanning is done with respect to the positive label, 'Survived'."
      ]
    },
    {
      "cell_type": "code",
      "execution_count": null,
      "metadata": {
        "id": "7Twg3LBh0Jij",
        "outputId": "5b9dd4fa-cb5a-4f15-fee6-f494e59604ed"
      },
      "outputs": [],
      "source": [
        "print(f'Observed: {y[priv].cat.codes.mean():.2%}')\n",
        "print(f'Expected: {df[priv].recid_prob.mean():.2%}')\n",
        "print(f'n = {sum(priv)}')"
      ]
    },
    {
      "cell_type": "markdown",
      "metadata": {
        "id": "g68mpYg20Jij"
      },
      "source": [
        "#### Unprivileged group\n",
        "\n",
        "\"Unprivileged\" means the model overestimates the probability of recidivism (underestimates favorable outcomes) for this subgroup. This disadvantages those individuals."
      ]
    },
    {
      "cell_type": "code",
      "execution_count": null,
      "metadata": {
        "id": "TcmWF0oE0Jik",
        "outputId": "4797e9af-8df2-43b4-ae7e-50cd36830a3b"
      },
      "outputs": [],
      "source": [
        "unpriv_sub, unpriv_score = mdss_bias_scan(y, y_prob, X=X, pos_label='Survived',\n",
        "                                          penalty=0.5, privileged=False)\n",
        "unpriv = df[unpriv_sub.keys()].isin(unpriv_sub).all(axis=1)\n",
        "unpriv_sub, unpriv_score"
      ]
    },
    {
      "cell_type": "code",
      "execution_count": null,
      "metadata": {
        "id": "i5YcmHkL0Jik",
        "outputId": "15340c08-41c7-4043-9800-75b416891a00"
      },
      "outputs": [],
      "source": [
        "print(f'Observed: {y[unpriv].cat.codes.mean():.2%}')\n",
        "print(f'Expected: {df[unpriv].recid_prob.mean():.2%}')\n",
        "print(f'n = {sum(unpriv)}')"
      ]
    },
    {
      "cell_type": "markdown",
      "metadata": {
        "id": "WyjOYZuK0Jil"
      },
      "source": [
        "### 2. Decile score + priors count"
      ]
    },
    {
      "cell_type": "code",
      "execution_count": null,
      "metadata": {
        "id": "ECQzsBEJ0Jil"
      },
      "outputs": [],
      "source": [
        "dec = dec.assign(priors_count=X['priors_count'].cat.codes)\n",
        "northpointe = LogisticRegression(penalty='none').fit(dec, y)\n",
        "y_prob_pc = northpointe.predict_proba(dec)[:, 1]"
      ]
    },
    {
      "cell_type": "code",
      "execution_count": null,
      "metadata": {
        "id": "soKsVOlK0Jim"
      },
      "outputs": [],
      "source": [
        "df = pd.concat([X, pd.Series(1-y_prob_pc, name='recid_prob', index=X.index)], axis=1)"
      ]
    },
    {
      "cell_type": "markdown",
      "metadata": {
        "id": "O_yFQy-00Jim"
      },
      "source": [
        "#### Privileged group"
      ]
    },
    {
      "cell_type": "code",
      "execution_count": null,
      "metadata": {
        "id": "LUDfrmiG0Jim",
        "outputId": "3a4c7e5b-ade8-4083-bfb8-2145d5c5cffb"
      },
      "outputs": [],
      "source": [
        "priv_sub, priv_score = mdss_bias_scan(y, y_prob_pc, X=X, pos_label='Survived',\n",
        "                                      penalty=1, privileged=True)\n",
        "priv = df[priv_sub.keys()].isin(priv_sub).all(axis=1)\n",
        "priv_sub, priv_score"
      ]
    },
    {
      "cell_type": "code",
      "execution_count": null,
      "metadata": {
        "id": "9QT8YdEY0Jin",
        "outputId": "39c3d98d-dbe7-4b9c-e37f-d77171ff4b3a"
      },
      "outputs": [],
      "source": [
        "print(f'Observed: {y[priv].cat.codes.mean():.2%}')\n",
        "print(f'Expected: {df[priv].recid_prob.mean():.2%}')\n",
        "print(f'n = {sum(priv)}')\n",
        "\n",
        "priv_unpen = mdss_bias_score(y, y_prob_pc, X=X, subset=priv_sub,\n",
        "                             pos_label='Survived', privileged=True, penalty=0)\n",
        "print(f'unpenalized score: {priv_unpen:.2f}')"
      ]
    },
    {
      "cell_type": "markdown",
      "metadata": {
        "id": "TyfxvmaI0Jin"
      },
      "source": [
        "#### Unprivileged group"
      ]
    },
    {
      "cell_type": "code",
      "execution_count": null,
      "metadata": {
        "id": "ymoBNKwu0Jin",
        "outputId": "c9fa465a-560b-413d-abe2-3155ce2eab69"
      },
      "outputs": [],
      "source": [
        "unpriv_sub, unpriv_score = mdss_bias_scan(y, y_prob_pc, X=X, pos_label='Survived',\n",
        "                                          penalty=0.25, privileged=False, n_iter=25)\n",
        "unpriv = df[unpriv_sub.keys()].isin(unpriv_sub).all(axis=1)\n",
        "unpriv_sub, unpriv_score"
      ]
    },
    {
      "cell_type": "code",
      "execution_count": null,
      "metadata": {
        "id": "zFRvNXCH0Jio",
        "outputId": "2d54ade4-6b77-481f-d21f-59cdeb572580"
      },
      "outputs": [],
      "source": [
        "print(f'Observed: {y[unpriv].cat.codes.mean():.2%}')\n",
        "print(f'Expected: {df[unpriv].recid_prob.mean():.2%}')\n",
        "print(f'n = {sum(unpriv)}')\n",
        "\n",
        "unpriv_unpen = mdss_bias_score(y, y_prob_pc, X=X, subset=unpriv_sub,\n",
        "                               pos_label='Survived', privileged=False, penalty=0)\n",
        "print(f'unpenalized score: {unpriv_unpen:.2f}')"
      ]
    },
    {
      "cell_type": "markdown",
      "metadata": {
        "id": "H2PhWmK_0Jip"
      },
      "source": [
        "### 3. Decile score + priors count + top groups"
      ]
    },
    {
      "cell_type": "code",
      "execution_count": null,
      "metadata": {
        "id": "sKAh4tzZ0Jip",
        "outputId": "7bdba24a-d496-4dba-e137-22d82ab95b45"
      },
      "outputs": [],
      "source": [
        "df['group'] = 'neither'\n",
        "df.loc[priv, 'group'] = 'under-estimated'\n",
        "df.loc[unpriv, 'group'] = 'over-estimated'\n",
        "df['group'] = df.group.astype('category')\n",
        "df.head()"
      ]
    },
    {
      "cell_type": "code",
      "execution_count": null,
      "metadata": {
        "id": "FITyXnKz0Jiq"
      },
      "outputs": [],
      "source": [
        "dec = pd.concat([dec, pd.get_dummies(df.group)], axis=1)\n",
        "northpointe = LogisticRegression(penalty='none').fit(dec, y)\n",
        "y_prob_pcg = northpointe.predict_proba(dec)[:, 1]\n",
        "df['recid_prob'] = 1 - y_prob_pcg"
      ]
    },
    {
      "cell_type": "code",
      "execution_count": null,
      "metadata": {
        "id": "HlB5K8ps0Jiq",
        "outputId": "262e523a-0ee6-4bf3-e75a-1de1cc8dfb1d"
      },
      "outputs": [],
      "source": [
        "p = sns.relplot(data=df.groupby(['decile_score', 'priors_count', 'group']).mean(),\n",
        "                x='decile_score', y='recid_prob', hue='priors_count',\n",
        "                style='priors_count', palette=['r', 'g', 'b'],\n",
        "                markers=['o', 's', '^'], col='group', s=250)\n",
        "for ax in p.axes.flatten():\n",
        "    ax.plot(range(1, 11), orig_clf, '--k')\n",
        "plt.ylim([0, 1]);\n",
        "plt.yticks(np.linspace(0, 1., 5));\n",
        "plt.xticks(range(1, 11));"
      ]
    }
  ],
  "metadata": {
    "colab": {
      "provenance": []
    },
    "kernelspec": {
      "display_name": "Python 3.8.10 64-bit",
      "language": "python",
      "name": "python3"
    },
    "language_info": {
      "codemirror_mode": {
        "name": "ipython",
        "version": 3
      },
      "file_extension": ".py",
      "mimetype": "text/x-python",
      "name": "python",
      "nbconvert_exporter": "python",
      "pygments_lexer": "ipython3",
      "version": "3.8.10"
    },
    "orig_nbformat": 4,
    "vscode": {
      "interpreter": {
        "hash": "949777d72b0d2535278d3dc13498b2535136f6dfe0678499012e853ee9abcab1"
      }
    }
  },
  "nbformat": 4,
  "nbformat_minor": 0
}
