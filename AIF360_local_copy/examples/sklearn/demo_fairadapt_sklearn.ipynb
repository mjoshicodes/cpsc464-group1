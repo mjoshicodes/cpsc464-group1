{
 "cells": [
  {
   "cell_type": "markdown",
   "metadata": {},
   "source": [
    "# Fair Data Adaptation\n",
    "The `FairAdapt` package provides a pre-processing method that can be used with the following workflow (both regression and classification):\n",
    "    \n",
    "    1. obtain a dataset of interest (D),\n",
    "    2. define the causal graph (G) for the dataset (see the graph of the Adult dataset below as an example),\n",
    "    3. using original data D and the causal graph G obtain a fair-transformed version of the data FT(D),\n",
    "    4. after the adaptation, use the transformed dataset FT(D) to train any classifier/regressor.\n",
    "    \n",
    "The adaptation procedure in `FairAdapt` adapts the variables in a topological order and ensures that discrimination removal is causally meaningful (under the assumption that the causal graph G is correctly specified). Additionally, the method explicitly computes what is known in the literature as _counterfactual instances_. For example, for a male individual, we can explicitly compute what his \"education level or employment status would have been, had he in fact been female\". Such reasoning can also help justify fair decision-making. \n",
    "\n",
    "In the following, we give an example of how `FairAdapt` can be used."
   ]
  },
  {
   "cell_type": "code",
   "execution_count": 1,
   "metadata": {},
   "outputs": [
    {
     "ename": "ModuleNotFoundError",
     "evalue": "No module named 'lightgbm'",
     "output_type": "error",
     "traceback": [
      "\u001b[0;31m---------------------------------------------------------------------------\u001b[0m",
      "\u001b[0;31mModuleNotFoundError\u001b[0m                       Traceback (most recent call last)",
      "Cell \u001b[0;32mIn [1], line 3\u001b[0m\n\u001b[1;32m      1\u001b[0m \u001b[39mimport\u001b[39;00m \u001b[39mnumpy\u001b[39;00m \u001b[39mas\u001b[39;00m \u001b[39mnp\u001b[39;00m\n\u001b[1;32m      2\u001b[0m \u001b[39mimport\u001b[39;00m \u001b[39mpandas\u001b[39;00m \u001b[39mas\u001b[39;00m \u001b[39mpd\u001b[39;00m\n\u001b[0;32m----> 3\u001b[0m \u001b[39mfrom\u001b[39;00m \u001b[39mlightgbm\u001b[39;00m \u001b[39mimport\u001b[39;00m LGBMClassifier\n\u001b[1;32m      4\u001b[0m \u001b[39mimport\u001b[39;00m \u001b[39migraph\u001b[39;00m\n\u001b[1;32m      6\u001b[0m \u001b[39mfrom\u001b[39;00m \u001b[39msklearn\u001b[39;00m\u001b[39m.\u001b[39;00m\u001b[39mmetrics\u001b[39;00m \u001b[39mimport\u001b[39;00m accuracy_score\n",
      "\u001b[0;31mModuleNotFoundError\u001b[0m: No module named 'lightgbm'"
     ]
    }
   ],
   "source": [
    "import numpy as np\n",
    "import pandas as pd\n",
    "from lightgbm import LGBMClassifier\n",
    "import igraph\n",
    "\n",
    "from sklearn.metrics import accuracy_score\n",
    "from sklearn.model_selection import train_test_split\n",
    "\n",
    "from aif360.sklearn.datasets import fetch_adult\n",
    "from aif360.sklearn.metrics import statistical_parity_difference\n",
    "from aif360.sklearn.preprocessing import FairAdapt"
   ]
  },
  {
   "cell_type": "markdown",
   "metadata": {},
   "source": [
    "## Load a dataset\n",
    "We start by loading the UCI Adult dataset and inspecting it."
   ]
  },
  {
   "cell_type": "code",
   "execution_count": null,
   "metadata": {
    "code_folding": []
   },
   "outputs": [],
   "source": [
    "X, y, sample_weight = fetch_adult()\n",
    "n_samp = 5000\n",
    "\n",
    "X = X.drop(['education', 'capital-gain', 'capital-loss', 'relationship'], axis=1)\n",
    "X = X[0:n_samp]\n",
    "y = y[0:n_samp]\n",
    "\n",
    "X.head()"
   ]
  },
  {
   "cell_type": "markdown",
   "metadata": {},
   "source": [
    "## Split the data into training and testing"
   ]
  },
  {
   "cell_type": "code",
   "execution_count": null,
   "metadata": {},
   "outputs": [],
   "source": [
    "(X_train, X_test,\n",
    " y_train, y_test) = train_test_split(X, y, train_size=0.8, random_state=1234567)"
   ]
  },
  {
   "cell_type": "markdown",
   "metadata": {},
   "source": [
    "## Train a LGBM predictor on original data and compute accuracy and parity gap"
   ]
  },
  {
   "cell_type": "code",
   "execution_count": null,
   "metadata": {},
   "outputs": [],
   "source": [
    "clf = LGBMClassifier()\n",
    "clf.fit(X_train, y_train)\n",
    "\n",
    "y_pred = clf.predict(X_test)\n",
    "accuracy_score(y_test, y_pred)"
   ]
  },
  {
   "cell_type": "code",
   "execution_count": null,
   "metadata": {},
   "outputs": [],
   "source": [
    "# parity gap\n",
    "par_gap = statistical_parity_difference(y_test, y_pred, prot_attr=\"sex\", \n",
    "                                         priv_group=\"Male\", pos_label=\">50K\")\n",
    "print(f\"Parity gap equals {par_gap:.2%}\")"
   ]
  },
  {
   "cell_type": "markdown",
   "metadata": {},
   "source": [
    "Therefore, a male person is 20\\% more likely than a female person to be predicted as earning more than 50k$/year."
   ]
  },
  {
   "cell_type": "markdown",
   "metadata": {},
   "source": [
    "## Construct the adjacency matrix (causal graph)"
   ]
  },
  {
   "cell_type": "code",
   "execution_count": null,
   "metadata": {},
   "outputs": [],
   "source": [
    "# construct an adjacency matrix\n",
    "train_df = pd.concat([X_train, y_train], axis=1)\n",
    "adj_mat = pd.DataFrame(\n",
    "    np.zeros((len(train_df.columns), len(train_df.columns)), dtype=int),\n",
    "    index=train_df.columns.values,\n",
    "    columns=train_df.columns.values\n",
    ")\n",
    "\n",
    "# Construct the adjacency matrix of the causal graph\n",
    "adj_mat.loc[[\"sex\", \"age\", \"native-country\", \"race\"],\n",
    "            [\"marital-status\", \"education-num\",\"workclass\", \"hours-per-week\", \"occupation\", \"annual-income\"]] = 1\n",
    "adj_mat.loc[\"marital-status\",\n",
    "            [\"education-num\", \"workclass\", \"hours-per-week\", \"occupation\", \"annual-income\"]] = 1\n",
    "adj_mat.loc[\"education-num\",\n",
    "            [\"workclass\", \"hours-per-week\", \"occupation\", \"annual-income\"]] = 1\n",
    "adj_mat.loc[[\"workclass\", \"hours-per-week\", \"occupation\"],\n",
    "            \"annual-income\"] = 1"
   ]
  },
  {
   "cell_type": "markdown",
   "metadata": {},
   "source": [
    "## Visualize the causal graph\n",
    "After constructing the causal model for the Adult dataset, we can visualize what it looks like:"
   ]
  },
  {
   "cell_type": "code",
   "execution_count": null,
   "metadata": {},
   "outputs": [],
   "source": [
    "G = igraph.Graph.Adjacency(matrix=adj_mat.values.tolist())\n",
    "G.vs['label'] = adj_mat.columns\n",
    "igraph.plot(G, bbox=(0, 0, 700, 500), vertex_size=100, margin=60)"
   ]
  },
  {
   "cell_type": "markdown",
   "metadata": {},
   "source": [
    "## Instantiate and run FairAdapt\n",
    "In the final step we run `FairAdapt` to perform the data adaptation. We use sex as the protected attribute."
   ]
  },
  {
   "cell_type": "code",
   "execution_count": null,
   "metadata": {
    "scrolled": true
   },
   "outputs": [],
   "source": [
    "FA = FairAdapt(prot_attr=\"sex\", adj_mat=adj_mat)\n",
    "Xf_train, yf_train, Xf_test = FA.fit_transform(X_train, y_train, X_test)"
   ]
  },
  {
   "cell_type": "markdown",
   "metadata": {},
   "source": [
    "## Retrain LGBM and check whether discrimination was removed\n",
    "After the adaptation, the same classifier is used again, but on the fair version of the data."
   ]
  },
  {
   "cell_type": "code",
   "execution_count": null,
   "metadata": {},
   "outputs": [],
   "source": [
    "clf_fair = LGBMClassifier()\n",
    "clf_fair.fit(Xf_train, yf_train)\n",
    "\n",
    "yf_pred = clf_fair.predict(Xf_test)\n",
    "accuracy_score(y_test, yf_pred)"
   ]
  },
  {
   "cell_type": "code",
   "execution_count": null,
   "metadata": {},
   "outputs": [],
   "source": [
    "# fair parity gap\n",
    "fair_gap = statistical_parity_difference(y_test, yf_pred, prot_attr=\"sex\", \n",
    "                                         priv_group=\"Male\", pos_label=\">50K\")\n",
    "print(f\"Fair parity gap equals {fair_gap:.2%}\")"
   ]
  },
  {
   "cell_type": "markdown",
   "metadata": {},
   "source": [
    "After applying `FairAdapt`, we notice that the parity gap between the group was decreased."
   ]
  }
 ],
 "metadata": {
  "hide_input": false,
  "kernelspec": {
   "display_name": "Python 3.8.10 64-bit",
   "language": "python",
   "name": "python3"
  },
  "language_info": {
   "codemirror_mode": {
    "name": "ipython",
    "version": 3
   },
   "file_extension": ".py",
   "mimetype": "text/x-python",
   "name": "python",
   "nbconvert_exporter": "python",
   "pygments_lexer": "ipython3",
   "version": "3.8.10"
  },
  "toc": {
   "base_numbering": 1,
   "nav_menu": {},
   "number_sections": true,
   "sideBar": true,
   "skip_h1_title": true,
   "title_cell": "Table of Contents",
   "title_sidebar": "Contents",
   "toc_cell": false,
   "toc_position": {
    "height": "calc(100% - 180px)",
    "left": "10px",
    "top": "150px",
    "width": "313px"
   },
   "toc_section_display": true,
   "toc_window_display": true
  },
  "varInspector": {
   "cols": {
    "lenName": 16,
    "lenType": 16,
    "lenVar": 40
   },
   "kernels_config": {
    "python": {
     "delete_cmd_postfix": "",
     "delete_cmd_prefix": "del ",
     "library": "var_list.py",
     "varRefreshCmd": "print(var_dic_list())"
    },
    "r": {
     "delete_cmd_postfix": ") ",
     "delete_cmd_prefix": "rm(",
     "library": "var_list.r",
     "varRefreshCmd": "cat(var_dic_list()) "
    }
   },
   "types_to_exclude": [
    "module",
    "function",
    "builtin_function_or_method",
    "instance",
    "_Feature"
   ],
   "window_display": false
  },
  "vscode": {
   "interpreter": {
    "hash": "949777d72b0d2535278d3dc13498b2535136f6dfe0678499012e853ee9abcab1"
   }
  }
 },
 "nbformat": 4,
 "nbformat_minor": 4
}
